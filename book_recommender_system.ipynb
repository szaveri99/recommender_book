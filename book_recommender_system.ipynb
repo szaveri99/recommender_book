{
  "nbformat": 4,
  "nbformat_minor": 0,
  "metadata": {
    "colab": {
      "provenance": [],
      "authorship_tag": "ABX9TyNtrLYF4IO4YbwAGsJpXTcz",
      "include_colab_link": true
    },
    "kernelspec": {
      "name": "python3",
      "display_name": "Python 3"
    },
    "language_info": {
      "name": "python"
    }
  },
  "cells": [
    {
      "cell_type": "markdown",
      "metadata": {
        "id": "view-in-github",
        "colab_type": "text"
      },
      "source": [
        "<a href=\"https://colab.research.google.com/github/szaveri99/recommender_book/blob/main/book_recommender_system.ipynb\" target=\"_parent\"><img src=\"https://colab.research.google.com/assets/colab-badge.svg\" alt=\"Open In Colab\"/></a>"
      ]
    },
    {
      "cell_type": "markdown",
      "source": [
        "**Generate Personalized Reading Recommendations from a Book Dataset**\n",
        "\n",
        "**Task:** Develop a simple but creative recommendation system using Python to provide personalized reading recommendations.\n",
        "\n",
        "**Dataset:** You can find many book datasets online, but here are a couple of suggestions:\n",
        "\n",
        "*   Goodreads Book Datasets\n",
        "*   Book-Crossings Dataset\n",
        "\n",
        "**Steps for Creating Models**\n",
        "\n",
        "1.   Data preprocessing\n",
        "2.   Feature engineering\n",
        "3.   Recommendation model\n",
        "4.   Evaluation\n",
        "5.   User Interface"
      ],
      "metadata": {
        "id": "BVNc98hnCpDi"
      }
    },
    {
      "cell_type": "markdown",
      "source": [
        "**Kaggle Dataset Setup**"
      ],
      "metadata": {
        "id": "-TQu_mqEghTi"
      }
    },
    {
      "cell_type": "code",
      "execution_count": null,
      "metadata": {
        "id": "FZBA1Tx-Ci-Q"
      },
      "outputs": [],
      "source": [
        "# install kaggle\n",
        "!pip install -q kaggle"
      ]
    },
    {
      "cell_type": "code",
      "source": [
        "# upload the kaggle.json file from your local and uncomment it\n",
        "# from google.colab import files\n",
        "# files.upload()"
      ],
      "metadata": {
        "colab": {
          "base_uri": "https://localhost:8080/",
          "height": 90
        },
        "id": "yKJGdvjlW0nR",
        "outputId": "4369f057-0417-4d84-c9ff-3aeeca4798ee"
      },
      "execution_count": null,
      "outputs": [
        {
          "output_type": "display_data",
          "data": {
            "text/plain": [
              "<IPython.core.display.HTML object>"
            ],
            "text/html": [
              "\n",
              "     <input type=\"file\" id=\"files-83dd44b9-c02b-45a8-8c06-04fa56173e52\" name=\"files[]\" multiple disabled\n",
              "        style=\"border:none\" />\n",
              "     <output id=\"result-83dd44b9-c02b-45a8-8c06-04fa56173e52\">\n",
              "      Upload widget is only available when the cell has been executed in the\n",
              "      current browser session. Please rerun this cell to enable.\n",
              "      </output>\n",
              "      <script>// Copyright 2017 Google LLC\n",
              "//\n",
              "// Licensed under the Apache License, Version 2.0 (the \"License\");\n",
              "// you may not use this file except in compliance with the License.\n",
              "// You may obtain a copy of the License at\n",
              "//\n",
              "//      http://www.apache.org/licenses/LICENSE-2.0\n",
              "//\n",
              "// Unless required by applicable law or agreed to in writing, software\n",
              "// distributed under the License is distributed on an \"AS IS\" BASIS,\n",
              "// WITHOUT WARRANTIES OR CONDITIONS OF ANY KIND, either express or implied.\n",
              "// See the License for the specific language governing permissions and\n",
              "// limitations under the License.\n",
              "\n",
              "/**\n",
              " * @fileoverview Helpers for google.colab Python module.\n",
              " */\n",
              "(function(scope) {\n",
              "function span(text, styleAttributes = {}) {\n",
              "  const element = document.createElement('span');\n",
              "  element.textContent = text;\n",
              "  for (const key of Object.keys(styleAttributes)) {\n",
              "    element.style[key] = styleAttributes[key];\n",
              "  }\n",
              "  return element;\n",
              "}\n",
              "\n",
              "// Max number of bytes which will be uploaded at a time.\n",
              "const MAX_PAYLOAD_SIZE = 100 * 1024;\n",
              "\n",
              "function _uploadFiles(inputId, outputId) {\n",
              "  const steps = uploadFilesStep(inputId, outputId);\n",
              "  const outputElement = document.getElementById(outputId);\n",
              "  // Cache steps on the outputElement to make it available for the next call\n",
              "  // to uploadFilesContinue from Python.\n",
              "  outputElement.steps = steps;\n",
              "\n",
              "  return _uploadFilesContinue(outputId);\n",
              "}\n",
              "\n",
              "// This is roughly an async generator (not supported in the browser yet),\n",
              "// where there are multiple asynchronous steps and the Python side is going\n",
              "// to poll for completion of each step.\n",
              "// This uses a Promise to block the python side on completion of each step,\n",
              "// then passes the result of the previous step as the input to the next step.\n",
              "function _uploadFilesContinue(outputId) {\n",
              "  const outputElement = document.getElementById(outputId);\n",
              "  const steps = outputElement.steps;\n",
              "\n",
              "  const next = steps.next(outputElement.lastPromiseValue);\n",
              "  return Promise.resolve(next.value.promise).then((value) => {\n",
              "    // Cache the last promise value to make it available to the next\n",
              "    // step of the generator.\n",
              "    outputElement.lastPromiseValue = value;\n",
              "    return next.value.response;\n",
              "  });\n",
              "}\n",
              "\n",
              "/**\n",
              " * Generator function which is called between each async step of the upload\n",
              " * process.\n",
              " * @param {string} inputId Element ID of the input file picker element.\n",
              " * @param {string} outputId Element ID of the output display.\n",
              " * @return {!Iterable<!Object>} Iterable of next steps.\n",
              " */\n",
              "function* uploadFilesStep(inputId, outputId) {\n",
              "  const inputElement = document.getElementById(inputId);\n",
              "  inputElement.disabled = false;\n",
              "\n",
              "  const outputElement = document.getElementById(outputId);\n",
              "  outputElement.innerHTML = '';\n",
              "\n",
              "  const pickedPromise = new Promise((resolve) => {\n",
              "    inputElement.addEventListener('change', (e) => {\n",
              "      resolve(e.target.files);\n",
              "    });\n",
              "  });\n",
              "\n",
              "  const cancel = document.createElement('button');\n",
              "  inputElement.parentElement.appendChild(cancel);\n",
              "  cancel.textContent = 'Cancel upload';\n",
              "  const cancelPromise = new Promise((resolve) => {\n",
              "    cancel.onclick = () => {\n",
              "      resolve(null);\n",
              "    };\n",
              "  });\n",
              "\n",
              "  // Wait for the user to pick the files.\n",
              "  const files = yield {\n",
              "    promise: Promise.race([pickedPromise, cancelPromise]),\n",
              "    response: {\n",
              "      action: 'starting',\n",
              "    }\n",
              "  };\n",
              "\n",
              "  cancel.remove();\n",
              "\n",
              "  // Disable the input element since further picks are not allowed.\n",
              "  inputElement.disabled = true;\n",
              "\n",
              "  if (!files) {\n",
              "    return {\n",
              "      response: {\n",
              "        action: 'complete',\n",
              "      }\n",
              "    };\n",
              "  }\n",
              "\n",
              "  for (const file of files) {\n",
              "    const li = document.createElement('li');\n",
              "    li.append(span(file.name, {fontWeight: 'bold'}));\n",
              "    li.append(span(\n",
              "        `(${file.type || 'n/a'}) - ${file.size} bytes, ` +\n",
              "        `last modified: ${\n",
              "            file.lastModifiedDate ? file.lastModifiedDate.toLocaleDateString() :\n",
              "                                    'n/a'} - `));\n",
              "    const percent = span('0% done');\n",
              "    li.appendChild(percent);\n",
              "\n",
              "    outputElement.appendChild(li);\n",
              "\n",
              "    const fileDataPromise = new Promise((resolve) => {\n",
              "      const reader = new FileReader();\n",
              "      reader.onload = (e) => {\n",
              "        resolve(e.target.result);\n",
              "      };\n",
              "      reader.readAsArrayBuffer(file);\n",
              "    });\n",
              "    // Wait for the data to be ready.\n",
              "    let fileData = yield {\n",
              "      promise: fileDataPromise,\n",
              "      response: {\n",
              "        action: 'continue',\n",
              "      }\n",
              "    };\n",
              "\n",
              "    // Use a chunked sending to avoid message size limits. See b/62115660.\n",
              "    let position = 0;\n",
              "    do {\n",
              "      const length = Math.min(fileData.byteLength - position, MAX_PAYLOAD_SIZE);\n",
              "      const chunk = new Uint8Array(fileData, position, length);\n",
              "      position += length;\n",
              "\n",
              "      const base64 = btoa(String.fromCharCode.apply(null, chunk));\n",
              "      yield {\n",
              "        response: {\n",
              "          action: 'append',\n",
              "          file: file.name,\n",
              "          data: base64,\n",
              "        },\n",
              "      };\n",
              "\n",
              "      let percentDone = fileData.byteLength === 0 ?\n",
              "          100 :\n",
              "          Math.round((position / fileData.byteLength) * 100);\n",
              "      percent.textContent = `${percentDone}% done`;\n",
              "\n",
              "    } while (position < fileData.byteLength);\n",
              "  }\n",
              "\n",
              "  // All done.\n",
              "  yield {\n",
              "    response: {\n",
              "      action: 'complete',\n",
              "    }\n",
              "  };\n",
              "}\n",
              "\n",
              "scope.google = scope.google || {};\n",
              "scope.google.colab = scope.google.colab || {};\n",
              "scope.google.colab._files = {\n",
              "  _uploadFiles,\n",
              "  _uploadFilesContinue,\n",
              "};\n",
              "})(self);\n",
              "</script> "
            ]
          },
          "metadata": {}
        },
        {
          "output_type": "stream",
          "name": "stdout",
          "text": [
            "Saving kaggle.json to kaggle (1).json\n"
          ]
        },
        {
          "output_type": "execute_result",
          "data": {
            "text/plain": [
              "{'kaggle (1).json': b'{\"username\":\"szaveri99\",\"key\":\"58406672451b8ae4a65c7bcb35a6c083\"}'}"
            ]
          },
          "metadata": {},
          "execution_count": 34
        }
      ]
    },
    {
      "cell_type": "code",
      "source": [
        "# create kaggle folder\n",
        "!mkdir ~/.kaggle"
      ],
      "metadata": {
        "id": "ElWJTV1TW5AO",
        "colab": {
          "base_uri": "https://localhost:8080/"
        },
        "outputId": "e13979ea-12d2-4f07-e378-baaf222bf0d9"
      },
      "execution_count": null,
      "outputs": [
        {
          "output_type": "stream",
          "name": "stdout",
          "text": [
            "mkdir: cannot create directory ‘/root/.kaggle’: File exists\n"
          ]
        }
      ]
    },
    {
      "cell_type": "code",
      "source": [
        "# copy the kaggle.json file to the kaggle folder\n",
        "!cp  kaggle.json ~/.kaggle/"
      ],
      "metadata": {
        "id": "r_RhKD89W8X5"
      },
      "execution_count": null,
      "outputs": []
    },
    {
      "cell_type": "code",
      "source": [
        "# permission for the json file to act\n",
        "!chmod 600 ~/.kaggle/kaggle.json"
      ],
      "metadata": {
        "id": "xBM5Xj5FXBFw"
      },
      "execution_count": null,
      "outputs": []
    },
    {
      "cell_type": "code",
      "source": [
        "#  list all the dataset present in the kaggle\n",
        "!kaggle datasets list"
      ],
      "metadata": {
        "colab": {
          "base_uri": "https://localhost:8080/"
        },
        "id": "5mnozmTaXCex",
        "outputId": "7b4f21a4-cb6f-4136-9c4c-aa29b831f361"
      },
      "execution_count": null,
      "outputs": [
        {
          "output_type": "stream",
          "name": "stdout",
          "text": [
            "ref                                                        title                                          size  lastUpdated          downloadCount  voteCount  usabilityRating  \n",
            "---------------------------------------------------------  --------------------------------------------  -----  -------------------  -------------  ---------  ---------------  \n",
            "nelgiriyewithana/top-spotify-songs-2023                    Most Streamed Spotify Songs 2023               47KB  2023-08-26 11:04:57          27585        832  1.0              \n",
            "iamsouravbanerjee/customer-shopping-trends-dataset         Customer Shopping Trends Dataset              146KB  2023-10-05 06:45:37           2614         64  1.0              \n",
            "joebeachcapital/seoul-bike-sharing                         Seoul Bike Sharing Demand                     126KB  2023-10-03 01:48:46            643         27  1.0              \n",
            "nelgiriyewithana/credit-card-fraud-detection-dataset-2023  Credit Card Fraud Detection Dataset 2023      143MB  2023-09-18 10:00:19           4399        140  1.0              \n",
            "mexwell/supermarket-dataset                                🛒 Supermarket-Dataset                          14MB  2023-09-29 15:57:14            737         29  0.9411765        \n",
            "zedataweaver/global-salary-data                            Global Salary Data                              5KB  2023-10-03 00:55:24            793         27  1.0              \n",
            "nelgiriyewithana/billionaires-statistics-dataset           Billionaires Statistics Dataset (2023)        139KB  2023-09-29 13:39:28           2031         61  1.0              \n",
            "anshtanwar/monthly-food-price-estimates                    Monthly Food Price Inflation                   44MB  2023-10-08 05:22:42            487         22  1.0              \n",
            "zsinghrahulk/asian-countries-gdp-growth                    Asian countries - GDP growth                   16KB  2023-10-09 07:23:31            343         24  0.9411765        \n",
            "joebeachcapital/students-performance                       Students Performance                            2KB  2023-08-31 00:50:11           9837        219  1.0              \n",
            "reenapinto/housing-price-and-real-estate-2023              Housing Price & Real Estate - 2023            254KB  2023-10-08 07:40:52            546         24  0.88235295       \n",
            "asaniczka/full-tmdb-tv-shows-dataset-2023-150k-shows       Full TMDb TV Shows Dataset 2023 (150K Shows)   28MB  2023-10-06 04:12:50            405         24  1.0              \n",
            "deeplearner09/airbnb-listings                              Airbnb Listings Real Estate Data .            639KB  2023-10-07 10:05:20            440         25  1.0              \n",
            "tawfikelmetwally/employee-dataset                          Employee dataset                               19KB  2023-09-06 18:15:55           7289        121  0.9411765        \n",
            "iamsouravbanerjee/heart-attack-prediction-dataset          Heart Attack Risk Prediction Dataset          519KB  2023-09-27 07:07:50           1983         48  1.0              \n",
            "aemyjutt/laptop-price-analysis                             Laptop_Price_Analysis                          21KB  2023-10-02 07:46:46           1165         33  1.0              \n",
            "fortuneuwha/world-instant-noodles-consumption-2022         World Instant Noodles Consumption 2022          2KB  2023-10-02 17:06:28           1173         33  1.0              \n",
            "carlmcbrideellis/zzzs-lightweight-training-dataset-target  Zzzs: Lightweight training dataset + target   185MB  2023-09-20 19:52:40            932         85  1.0              \n",
            "asishpandey/crop-production-in-india                       Agriculture Crop Production In India            9MB  2023-10-07 17:36:26            386         23  0.88235295       \n",
            "bhaveshmisra/heart-disease-indicators                      Heart_Disease_Indicators                        2MB  2023-10-06 18:08:16            670         25  0.9411765        \n"
          ]
        }
      ]
    },
    {
      "cell_type": "code",
      "source": [
        "# copy the api command from kaggle and access the dataset\n",
        "!kaggle datasets download -d jealousleopard/goodreadsbooks"
      ],
      "metadata": {
        "colab": {
          "base_uri": "https://localhost:8080/"
        },
        "id": "Mu6FD5UjXHsG",
        "outputId": "a97a92d6-c4c7-480c-da1d-2ac5918ebf93"
      },
      "execution_count": null,
      "outputs": [
        {
          "output_type": "stream",
          "name": "stdout",
          "text": [
            "goodreadsbooks.zip: Skipping, found more recently modified local copy (use --force to force download)\n"
          ]
        }
      ]
    },
    {
      "cell_type": "code",
      "source": [
        "# unzip the kaggle dataset\n",
        "!unzip goodreadsbooks.zip"
      ],
      "metadata": {
        "colab": {
          "base_uri": "https://localhost:8080/"
        },
        "id": "dXM8eJBlXIfI",
        "outputId": "cb503e16-51b5-4162-fe63-b7dd23c26d30"
      },
      "execution_count": null,
      "outputs": [
        {
          "output_type": "stream",
          "name": "stdout",
          "text": [
            "Archive:  goodreadsbooks.zip\n",
            "replace books.csv? [y]es, [n]o, [A]ll, [N]one, [r]ename: "
          ]
        }
      ]
    },
    {
      "cell_type": "markdown",
      "source": [
        "**Import Libraries and read Data**"
      ],
      "metadata": {
        "id": "VWqnXnD7g1Bp"
      }
    },
    {
      "cell_type": "code",
      "source": [
        "# import the necessary libraries\n",
        "\n",
        "import pandas as pd\n",
        "import numpy as np\n",
        "import seaborn as sns\n",
        "import matplotlib.pyplot as plt"
      ],
      "metadata": {
        "id": "tU_DO_bsYIkJ"
      },
      "execution_count": null,
      "outputs": []
    },
    {
      "cell_type": "code",
      "source": [
        "# read the csv file\n",
        "books_dataset = pd.read_csv(\"books.csv\",error_bad_lines=False)\n",
        "\n",
        "# read the columns\n",
        "books_dataset.columns\n"
      ],
      "metadata": {
        "colab": {
          "base_uri": "https://localhost:8080/"
        },
        "id": "GfWnl9ihYng9",
        "outputId": "3b70749d-5a92-4151-9204-688bc2058e12"
      },
      "execution_count": null,
      "outputs": [
        {
          "output_type": "stream",
          "name": "stderr",
          "text": [
            "<ipython-input-42-24ea7f987b62>:2: FutureWarning: The error_bad_lines argument has been deprecated and will be removed in a future version. Use on_bad_lines in the future.\n",
            "\n",
            "\n",
            "  books_dataset = pd.read_csv(\"books.csv\",error_bad_lines=False)\n",
            "Skipping line 3350: expected 12 fields, saw 13\n",
            "Skipping line 4704: expected 12 fields, saw 13\n",
            "Skipping line 5879: expected 12 fields, saw 13\n",
            "Skipping line 8981: expected 12 fields, saw 13\n",
            "\n"
          ]
        },
        {
          "output_type": "execute_result",
          "data": {
            "text/plain": [
              "Index(['bookID', 'title', 'authors', 'average_rating', 'isbn', 'isbn13',\n",
              "       'language_code', '  num_pages', 'ratings_count', 'text_reviews_count',\n",
              "       'publication_date', 'publisher'],\n",
              "      dtype='object')"
            ]
          },
          "metadata": {},
          "execution_count": 42
        }
      ]
    },
    {
      "cell_type": "markdown",
      "source": [
        "**Structure of the Dataset**"
      ],
      "metadata": {
        "id": "198Do9oGeB5t"
      }
    },
    {
      "cell_type": "code",
      "source": [
        "# number of rows and columns\n",
        "books_dataset.shape"
      ],
      "metadata": {
        "colab": {
          "base_uri": "https://localhost:8080/"
        },
        "id": "t88ssAt5mLKN",
        "outputId": "c00590f7-d548-49a9-b07b-03e318615a22"
      },
      "execution_count": null,
      "outputs": [
        {
          "output_type": "execute_result",
          "data": {
            "text/plain": [
              "(11123, 12)"
            ]
          },
          "metadata": {},
          "execution_count": 43
        }
      ]
    },
    {
      "cell_type": "code",
      "source": [
        "# datatypes of the columns\n",
        "books_dataset.dtypes"
      ],
      "metadata": {
        "colab": {
          "base_uri": "https://localhost:8080/"
        },
        "id": "pAPeazbMdls0",
        "outputId": "c08a282b-e754-4f2c-9670-7f8927eab3ef"
      },
      "execution_count": null,
      "outputs": [
        {
          "output_type": "execute_result",
          "data": {
            "text/plain": [
              "bookID                  int64\n",
              "title                  object\n",
              "authors                object\n",
              "average_rating        float64\n",
              "isbn                   object\n",
              "isbn13                  int64\n",
              "language_code          object\n",
              "  num_pages             int64\n",
              "ratings_count           int64\n",
              "text_reviews_count      int64\n",
              "publication_date       object\n",
              "publisher              object\n",
              "dtype: object"
            ]
          },
          "metadata": {},
          "execution_count": 44
        }
      ]
    },
    {
      "cell_type": "code",
      "source": [
        "# rename the columns\n",
        "books_dataset = books_dataset.rename(columns={\"  num_pages\": \"num_pages\"})"
      ],
      "metadata": {
        "id": "UgFUBfq90bHB"
      },
      "execution_count": null,
      "outputs": []
    },
    {
      "cell_type": "code",
      "source": [
        "# see the first 10 rows of datset by default head() shows 1st 5 rows\n",
        "books_dataset.head()"
      ],
      "metadata": {
        "colab": {
          "base_uri": "https://localhost:8080/",
          "height": 747
        },
        "id": "SpGFKsIsdmJO",
        "outputId": "5d56a5c3-5876-43ec-90a9-f344afd6f52b"
      },
      "execution_count": null,
      "outputs": [
        {
          "output_type": "execute_result",
          "data": {
            "text/plain": [
              "   bookID                                              title  \\\n",
              "0       1  Harry Potter and the Half-Blood Prince (Harry ...   \n",
              "1       2  Harry Potter and the Order of the Phoenix (Har...   \n",
              "2       4  Harry Potter and the Chamber of Secrets (Harry...   \n",
              "3       5  Harry Potter and the Prisoner of Azkaban (Harr...   \n",
              "4       8  Harry Potter Boxed Set  Books 1-5 (Harry Potte...   \n",
              "\n",
              "                      authors  average_rating        isbn         isbn13  \\\n",
              "0  J.K. Rowling/Mary GrandPré            4.57  0439785960  9780439785969   \n",
              "1  J.K. Rowling/Mary GrandPré            4.49  0439358078  9780439358071   \n",
              "2                J.K. Rowling            4.42  0439554896  9780439554893   \n",
              "3  J.K. Rowling/Mary GrandPré            4.56  043965548X  9780439655484   \n",
              "4  J.K. Rowling/Mary GrandPré            4.78  0439682584  9780439682589   \n",
              "\n",
              "  language_code  num_pages  ratings_count  text_reviews_count  \\\n",
              "0           eng        652        2095690               27591   \n",
              "1           eng        870        2153167               29221   \n",
              "2           eng        352           6333                 244   \n",
              "3           eng        435        2339585               36325   \n",
              "4           eng       2690          41428                 164   \n",
              "\n",
              "  publication_date        publisher  \n",
              "0        9/16/2006  Scholastic Inc.  \n",
              "1         9/1/2004  Scholastic Inc.  \n",
              "2        11/1/2003       Scholastic  \n",
              "3         5/1/2004  Scholastic Inc.  \n",
              "4        9/13/2004       Scholastic  "
            ],
            "text/html": [
              "\n",
              "  <div id=\"df-0ed0e865-a278-4590-a61e-8108a1626b28\" class=\"colab-df-container\">\n",
              "    <div>\n",
              "<style scoped>\n",
              "    .dataframe tbody tr th:only-of-type {\n",
              "        vertical-align: middle;\n",
              "    }\n",
              "\n",
              "    .dataframe tbody tr th {\n",
              "        vertical-align: top;\n",
              "    }\n",
              "\n",
              "    .dataframe thead th {\n",
              "        text-align: right;\n",
              "    }\n",
              "</style>\n",
              "<table border=\"1\" class=\"dataframe\">\n",
              "  <thead>\n",
              "    <tr style=\"text-align: right;\">\n",
              "      <th></th>\n",
              "      <th>bookID</th>\n",
              "      <th>title</th>\n",
              "      <th>authors</th>\n",
              "      <th>average_rating</th>\n",
              "      <th>isbn</th>\n",
              "      <th>isbn13</th>\n",
              "      <th>language_code</th>\n",
              "      <th>num_pages</th>\n",
              "      <th>ratings_count</th>\n",
              "      <th>text_reviews_count</th>\n",
              "      <th>publication_date</th>\n",
              "      <th>publisher</th>\n",
              "    </tr>\n",
              "  </thead>\n",
              "  <tbody>\n",
              "    <tr>\n",
              "      <th>0</th>\n",
              "      <td>1</td>\n",
              "      <td>Harry Potter and the Half-Blood Prince (Harry ...</td>\n",
              "      <td>J.K. Rowling/Mary GrandPré</td>\n",
              "      <td>4.57</td>\n",
              "      <td>0439785960</td>\n",
              "      <td>9780439785969</td>\n",
              "      <td>eng</td>\n",
              "      <td>652</td>\n",
              "      <td>2095690</td>\n",
              "      <td>27591</td>\n",
              "      <td>9/16/2006</td>\n",
              "      <td>Scholastic Inc.</td>\n",
              "    </tr>\n",
              "    <tr>\n",
              "      <th>1</th>\n",
              "      <td>2</td>\n",
              "      <td>Harry Potter and the Order of the Phoenix (Har...</td>\n",
              "      <td>J.K. Rowling/Mary GrandPré</td>\n",
              "      <td>4.49</td>\n",
              "      <td>0439358078</td>\n",
              "      <td>9780439358071</td>\n",
              "      <td>eng</td>\n",
              "      <td>870</td>\n",
              "      <td>2153167</td>\n",
              "      <td>29221</td>\n",
              "      <td>9/1/2004</td>\n",
              "      <td>Scholastic Inc.</td>\n",
              "    </tr>\n",
              "    <tr>\n",
              "      <th>2</th>\n",
              "      <td>4</td>\n",
              "      <td>Harry Potter and the Chamber of Secrets (Harry...</td>\n",
              "      <td>J.K. Rowling</td>\n",
              "      <td>4.42</td>\n",
              "      <td>0439554896</td>\n",
              "      <td>9780439554893</td>\n",
              "      <td>eng</td>\n",
              "      <td>352</td>\n",
              "      <td>6333</td>\n",
              "      <td>244</td>\n",
              "      <td>11/1/2003</td>\n",
              "      <td>Scholastic</td>\n",
              "    </tr>\n",
              "    <tr>\n",
              "      <th>3</th>\n",
              "      <td>5</td>\n",
              "      <td>Harry Potter and the Prisoner of Azkaban (Harr...</td>\n",
              "      <td>J.K. Rowling/Mary GrandPré</td>\n",
              "      <td>4.56</td>\n",
              "      <td>043965548X</td>\n",
              "      <td>9780439655484</td>\n",
              "      <td>eng</td>\n",
              "      <td>435</td>\n",
              "      <td>2339585</td>\n",
              "      <td>36325</td>\n",
              "      <td>5/1/2004</td>\n",
              "      <td>Scholastic Inc.</td>\n",
              "    </tr>\n",
              "    <tr>\n",
              "      <th>4</th>\n",
              "      <td>8</td>\n",
              "      <td>Harry Potter Boxed Set  Books 1-5 (Harry Potte...</td>\n",
              "      <td>J.K. Rowling/Mary GrandPré</td>\n",
              "      <td>4.78</td>\n",
              "      <td>0439682584</td>\n",
              "      <td>9780439682589</td>\n",
              "      <td>eng</td>\n",
              "      <td>2690</td>\n",
              "      <td>41428</td>\n",
              "      <td>164</td>\n",
              "      <td>9/13/2004</td>\n",
              "      <td>Scholastic</td>\n",
              "    </tr>\n",
              "  </tbody>\n",
              "</table>\n",
              "</div>\n",
              "    <div class=\"colab-df-buttons\">\n",
              "\n",
              "  <div class=\"colab-df-container\">\n",
              "    <button class=\"colab-df-convert\" onclick=\"convertToInteractive('df-0ed0e865-a278-4590-a61e-8108a1626b28')\"\n",
              "            title=\"Convert this dataframe to an interactive table.\"\n",
              "            style=\"display:none;\">\n",
              "\n",
              "  <svg xmlns=\"http://www.w3.org/2000/svg\" height=\"24px\" viewBox=\"0 -960 960 960\">\n",
              "    <path d=\"M120-120v-720h720v720H120Zm60-500h600v-160H180v160Zm220 220h160v-160H400v160Zm0 220h160v-160H400v160ZM180-400h160v-160H180v160Zm440 0h160v-160H620v160ZM180-180h160v-160H180v160Zm440 0h160v-160H620v160Z\"/>\n",
              "  </svg>\n",
              "    </button>\n",
              "\n",
              "  <style>\n",
              "    .colab-df-container {\n",
              "      display:flex;\n",
              "      gap: 12px;\n",
              "    }\n",
              "\n",
              "    .colab-df-convert {\n",
              "      background-color: #E8F0FE;\n",
              "      border: none;\n",
              "      border-radius: 50%;\n",
              "      cursor: pointer;\n",
              "      display: none;\n",
              "      fill: #1967D2;\n",
              "      height: 32px;\n",
              "      padding: 0 0 0 0;\n",
              "      width: 32px;\n",
              "    }\n",
              "\n",
              "    .colab-df-convert:hover {\n",
              "      background-color: #E2EBFA;\n",
              "      box-shadow: 0px 1px 2px rgba(60, 64, 67, 0.3), 0px 1px 3px 1px rgba(60, 64, 67, 0.15);\n",
              "      fill: #174EA6;\n",
              "    }\n",
              "\n",
              "    .colab-df-buttons div {\n",
              "      margin-bottom: 4px;\n",
              "    }\n",
              "\n",
              "    [theme=dark] .colab-df-convert {\n",
              "      background-color: #3B4455;\n",
              "      fill: #D2E3FC;\n",
              "    }\n",
              "\n",
              "    [theme=dark] .colab-df-convert:hover {\n",
              "      background-color: #434B5C;\n",
              "      box-shadow: 0px 1px 3px 1px rgba(0, 0, 0, 0.15);\n",
              "      filter: drop-shadow(0px 1px 2px rgba(0, 0, 0, 0.3));\n",
              "      fill: #FFFFFF;\n",
              "    }\n",
              "  </style>\n",
              "\n",
              "    <script>\n",
              "      const buttonEl =\n",
              "        document.querySelector('#df-0ed0e865-a278-4590-a61e-8108a1626b28 button.colab-df-convert');\n",
              "      buttonEl.style.display =\n",
              "        google.colab.kernel.accessAllowed ? 'block' : 'none';\n",
              "\n",
              "      async function convertToInteractive(key) {\n",
              "        const element = document.querySelector('#df-0ed0e865-a278-4590-a61e-8108a1626b28');\n",
              "        const dataTable =\n",
              "          await google.colab.kernel.invokeFunction('convertToInteractive',\n",
              "                                                    [key], {});\n",
              "        if (!dataTable) return;\n",
              "\n",
              "        const docLinkHtml = 'Like what you see? Visit the ' +\n",
              "          '<a target=\"_blank\" href=https://colab.research.google.com/notebooks/data_table.ipynb>data table notebook</a>'\n",
              "          + ' to learn more about interactive tables.';\n",
              "        element.innerHTML = '';\n",
              "        dataTable['output_type'] = 'display_data';\n",
              "        await google.colab.output.renderOutput(dataTable, element);\n",
              "        const docLink = document.createElement('div');\n",
              "        docLink.innerHTML = docLinkHtml;\n",
              "        element.appendChild(docLink);\n",
              "      }\n",
              "    </script>\n",
              "  </div>\n",
              "\n",
              "\n",
              "<div id=\"df-3c907e67-2acc-43b4-ae82-8886c0201848\">\n",
              "  <button class=\"colab-df-quickchart\" onclick=\"quickchart('df-3c907e67-2acc-43b4-ae82-8886c0201848')\"\n",
              "            title=\"Suggest charts.\"\n",
              "            style=\"display:none;\">\n",
              "\n",
              "<svg xmlns=\"http://www.w3.org/2000/svg\" height=\"24px\"viewBox=\"0 0 24 24\"\n",
              "     width=\"24px\">\n",
              "    <g>\n",
              "        <path d=\"M19 3H5c-1.1 0-2 .9-2 2v14c0 1.1.9 2 2 2h14c1.1 0 2-.9 2-2V5c0-1.1-.9-2-2-2zM9 17H7v-7h2v7zm4 0h-2V7h2v10zm4 0h-2v-4h2v4z\"/>\n",
              "    </g>\n",
              "</svg>\n",
              "  </button>\n",
              "\n",
              "<style>\n",
              "  .colab-df-quickchart {\n",
              "      --bg-color: #E8F0FE;\n",
              "      --fill-color: #1967D2;\n",
              "      --hover-bg-color: #E2EBFA;\n",
              "      --hover-fill-color: #174EA6;\n",
              "      --disabled-fill-color: #AAA;\n",
              "      --disabled-bg-color: #DDD;\n",
              "  }\n",
              "\n",
              "  [theme=dark] .colab-df-quickchart {\n",
              "      --bg-color: #3B4455;\n",
              "      --fill-color: #D2E3FC;\n",
              "      --hover-bg-color: #434B5C;\n",
              "      --hover-fill-color: #FFFFFF;\n",
              "      --disabled-bg-color: #3B4455;\n",
              "      --disabled-fill-color: #666;\n",
              "  }\n",
              "\n",
              "  .colab-df-quickchart {\n",
              "    background-color: var(--bg-color);\n",
              "    border: none;\n",
              "    border-radius: 50%;\n",
              "    cursor: pointer;\n",
              "    display: none;\n",
              "    fill: var(--fill-color);\n",
              "    height: 32px;\n",
              "    padding: 0;\n",
              "    width: 32px;\n",
              "  }\n",
              "\n",
              "  .colab-df-quickchart:hover {\n",
              "    background-color: var(--hover-bg-color);\n",
              "    box-shadow: 0 1px 2px rgba(60, 64, 67, 0.3), 0 1px 3px 1px rgba(60, 64, 67, 0.15);\n",
              "    fill: var(--button-hover-fill-color);\n",
              "  }\n",
              "\n",
              "  .colab-df-quickchart-complete:disabled,\n",
              "  .colab-df-quickchart-complete:disabled:hover {\n",
              "    background-color: var(--disabled-bg-color);\n",
              "    fill: var(--disabled-fill-color);\n",
              "    box-shadow: none;\n",
              "  }\n",
              "\n",
              "  .colab-df-spinner {\n",
              "    border: 2px solid var(--fill-color);\n",
              "    border-color: transparent;\n",
              "    border-bottom-color: var(--fill-color);\n",
              "    animation:\n",
              "      spin 1s steps(1) infinite;\n",
              "  }\n",
              "\n",
              "  @keyframes spin {\n",
              "    0% {\n",
              "      border-color: transparent;\n",
              "      border-bottom-color: var(--fill-color);\n",
              "      border-left-color: var(--fill-color);\n",
              "    }\n",
              "    20% {\n",
              "      border-color: transparent;\n",
              "      border-left-color: var(--fill-color);\n",
              "      border-top-color: var(--fill-color);\n",
              "    }\n",
              "    30% {\n",
              "      border-color: transparent;\n",
              "      border-left-color: var(--fill-color);\n",
              "      border-top-color: var(--fill-color);\n",
              "      border-right-color: var(--fill-color);\n",
              "    }\n",
              "    40% {\n",
              "      border-color: transparent;\n",
              "      border-right-color: var(--fill-color);\n",
              "      border-top-color: var(--fill-color);\n",
              "    }\n",
              "    60% {\n",
              "      border-color: transparent;\n",
              "      border-right-color: var(--fill-color);\n",
              "    }\n",
              "    80% {\n",
              "      border-color: transparent;\n",
              "      border-right-color: var(--fill-color);\n",
              "      border-bottom-color: var(--fill-color);\n",
              "    }\n",
              "    90% {\n",
              "      border-color: transparent;\n",
              "      border-bottom-color: var(--fill-color);\n",
              "    }\n",
              "  }\n",
              "</style>\n",
              "\n",
              "  <script>\n",
              "    async function quickchart(key) {\n",
              "      const quickchartButtonEl =\n",
              "        document.querySelector('#' + key + ' button');\n",
              "      quickchartButtonEl.disabled = true;  // To prevent multiple clicks.\n",
              "      quickchartButtonEl.classList.add('colab-df-spinner');\n",
              "      try {\n",
              "        const charts = await google.colab.kernel.invokeFunction(\n",
              "            'suggestCharts', [key], {});\n",
              "      } catch (error) {\n",
              "        console.error('Error during call to suggestCharts:', error);\n",
              "      }\n",
              "      quickchartButtonEl.classList.remove('colab-df-spinner');\n",
              "      quickchartButtonEl.classList.add('colab-df-quickchart-complete');\n",
              "    }\n",
              "    (() => {\n",
              "      let quickchartButtonEl =\n",
              "        document.querySelector('#df-3c907e67-2acc-43b4-ae82-8886c0201848 button');\n",
              "      quickchartButtonEl.style.display =\n",
              "        google.colab.kernel.accessAllowed ? 'block' : 'none';\n",
              "    })();\n",
              "  </script>\n",
              "</div>\n",
              "    </div>\n",
              "  </div>\n"
            ]
          },
          "metadata": {},
          "execution_count": 46
        }
      ]
    },
    {
      "cell_type": "code",
      "source": [
        "# this works only on numeric data which shows the central tendency -> mean, median and mode and spreadness of the data\n",
        "books_dataset.describe()"
      ],
      "metadata": {
        "colab": {
          "base_uri": "https://localhost:8080/",
          "height": 300
        },
        "id": "3pfBSQ9QY9la",
        "outputId": "24cc0c3c-1fa3-4718-89bf-9c056e194e6c"
      },
      "execution_count": null,
      "outputs": [
        {
          "output_type": "execute_result",
          "data": {
            "text/plain": [
              "             bookID  average_rating        isbn13     num_pages  \\\n",
              "count  11123.000000    11123.000000  1.112300e+04  11123.000000   \n",
              "mean   21310.856963        3.934075  9.759880e+12    336.405556   \n",
              "std    13094.727252        0.350485  4.429758e+11    241.152626   \n",
              "min        1.000000        0.000000  8.987060e+09      0.000000   \n",
              "25%    10277.500000        3.770000  9.780345e+12    192.000000   \n",
              "50%    20287.000000        3.960000  9.780582e+12    299.000000   \n",
              "75%    32104.500000        4.140000  9.780872e+12    416.000000   \n",
              "max    45641.000000        5.000000  9.790008e+12   6576.000000   \n",
              "\n",
              "       ratings_count  text_reviews_count  \n",
              "count   1.112300e+04        11123.000000  \n",
              "mean    1.794285e+04          542.048099  \n",
              "std     1.124992e+05         2576.619589  \n",
              "min     0.000000e+00            0.000000  \n",
              "25%     1.040000e+02            9.000000  \n",
              "50%     7.450000e+02           47.000000  \n",
              "75%     5.000500e+03          238.000000  \n",
              "max     4.597666e+06        94265.000000  "
            ],
            "text/html": [
              "\n",
              "  <div id=\"df-9efb282f-071b-4aaf-b91f-57b3c1508d4e\" class=\"colab-df-container\">\n",
              "    <div>\n",
              "<style scoped>\n",
              "    .dataframe tbody tr th:only-of-type {\n",
              "        vertical-align: middle;\n",
              "    }\n",
              "\n",
              "    .dataframe tbody tr th {\n",
              "        vertical-align: top;\n",
              "    }\n",
              "\n",
              "    .dataframe thead th {\n",
              "        text-align: right;\n",
              "    }\n",
              "</style>\n",
              "<table border=\"1\" class=\"dataframe\">\n",
              "  <thead>\n",
              "    <tr style=\"text-align: right;\">\n",
              "      <th></th>\n",
              "      <th>bookID</th>\n",
              "      <th>average_rating</th>\n",
              "      <th>isbn13</th>\n",
              "      <th>num_pages</th>\n",
              "      <th>ratings_count</th>\n",
              "      <th>text_reviews_count</th>\n",
              "    </tr>\n",
              "  </thead>\n",
              "  <tbody>\n",
              "    <tr>\n",
              "      <th>count</th>\n",
              "      <td>11123.000000</td>\n",
              "      <td>11123.000000</td>\n",
              "      <td>1.112300e+04</td>\n",
              "      <td>11123.000000</td>\n",
              "      <td>1.112300e+04</td>\n",
              "      <td>11123.000000</td>\n",
              "    </tr>\n",
              "    <tr>\n",
              "      <th>mean</th>\n",
              "      <td>21310.856963</td>\n",
              "      <td>3.934075</td>\n",
              "      <td>9.759880e+12</td>\n",
              "      <td>336.405556</td>\n",
              "      <td>1.794285e+04</td>\n",
              "      <td>542.048099</td>\n",
              "    </tr>\n",
              "    <tr>\n",
              "      <th>std</th>\n",
              "      <td>13094.727252</td>\n",
              "      <td>0.350485</td>\n",
              "      <td>4.429758e+11</td>\n",
              "      <td>241.152626</td>\n",
              "      <td>1.124992e+05</td>\n",
              "      <td>2576.619589</td>\n",
              "    </tr>\n",
              "    <tr>\n",
              "      <th>min</th>\n",
              "      <td>1.000000</td>\n",
              "      <td>0.000000</td>\n",
              "      <td>8.987060e+09</td>\n",
              "      <td>0.000000</td>\n",
              "      <td>0.000000e+00</td>\n",
              "      <td>0.000000</td>\n",
              "    </tr>\n",
              "    <tr>\n",
              "      <th>25%</th>\n",
              "      <td>10277.500000</td>\n",
              "      <td>3.770000</td>\n",
              "      <td>9.780345e+12</td>\n",
              "      <td>192.000000</td>\n",
              "      <td>1.040000e+02</td>\n",
              "      <td>9.000000</td>\n",
              "    </tr>\n",
              "    <tr>\n",
              "      <th>50%</th>\n",
              "      <td>20287.000000</td>\n",
              "      <td>3.960000</td>\n",
              "      <td>9.780582e+12</td>\n",
              "      <td>299.000000</td>\n",
              "      <td>7.450000e+02</td>\n",
              "      <td>47.000000</td>\n",
              "    </tr>\n",
              "    <tr>\n",
              "      <th>75%</th>\n",
              "      <td>32104.500000</td>\n",
              "      <td>4.140000</td>\n",
              "      <td>9.780872e+12</td>\n",
              "      <td>416.000000</td>\n",
              "      <td>5.000500e+03</td>\n",
              "      <td>238.000000</td>\n",
              "    </tr>\n",
              "    <tr>\n",
              "      <th>max</th>\n",
              "      <td>45641.000000</td>\n",
              "      <td>5.000000</td>\n",
              "      <td>9.790008e+12</td>\n",
              "      <td>6576.000000</td>\n",
              "      <td>4.597666e+06</td>\n",
              "      <td>94265.000000</td>\n",
              "    </tr>\n",
              "  </tbody>\n",
              "</table>\n",
              "</div>\n",
              "    <div class=\"colab-df-buttons\">\n",
              "\n",
              "  <div class=\"colab-df-container\">\n",
              "    <button class=\"colab-df-convert\" onclick=\"convertToInteractive('df-9efb282f-071b-4aaf-b91f-57b3c1508d4e')\"\n",
              "            title=\"Convert this dataframe to an interactive table.\"\n",
              "            style=\"display:none;\">\n",
              "\n",
              "  <svg xmlns=\"http://www.w3.org/2000/svg\" height=\"24px\" viewBox=\"0 -960 960 960\">\n",
              "    <path d=\"M120-120v-720h720v720H120Zm60-500h600v-160H180v160Zm220 220h160v-160H400v160Zm0 220h160v-160H400v160ZM180-400h160v-160H180v160Zm440 0h160v-160H620v160ZM180-180h160v-160H180v160Zm440 0h160v-160H620v160Z\"/>\n",
              "  </svg>\n",
              "    </button>\n",
              "\n",
              "  <style>\n",
              "    .colab-df-container {\n",
              "      display:flex;\n",
              "      gap: 12px;\n",
              "    }\n",
              "\n",
              "    .colab-df-convert {\n",
              "      background-color: #E8F0FE;\n",
              "      border: none;\n",
              "      border-radius: 50%;\n",
              "      cursor: pointer;\n",
              "      display: none;\n",
              "      fill: #1967D2;\n",
              "      height: 32px;\n",
              "      padding: 0 0 0 0;\n",
              "      width: 32px;\n",
              "    }\n",
              "\n",
              "    .colab-df-convert:hover {\n",
              "      background-color: #E2EBFA;\n",
              "      box-shadow: 0px 1px 2px rgba(60, 64, 67, 0.3), 0px 1px 3px 1px rgba(60, 64, 67, 0.15);\n",
              "      fill: #174EA6;\n",
              "    }\n",
              "\n",
              "    .colab-df-buttons div {\n",
              "      margin-bottom: 4px;\n",
              "    }\n",
              "\n",
              "    [theme=dark] .colab-df-convert {\n",
              "      background-color: #3B4455;\n",
              "      fill: #D2E3FC;\n",
              "    }\n",
              "\n",
              "    [theme=dark] .colab-df-convert:hover {\n",
              "      background-color: #434B5C;\n",
              "      box-shadow: 0px 1px 3px 1px rgba(0, 0, 0, 0.15);\n",
              "      filter: drop-shadow(0px 1px 2px rgba(0, 0, 0, 0.3));\n",
              "      fill: #FFFFFF;\n",
              "    }\n",
              "  </style>\n",
              "\n",
              "    <script>\n",
              "      const buttonEl =\n",
              "        document.querySelector('#df-9efb282f-071b-4aaf-b91f-57b3c1508d4e button.colab-df-convert');\n",
              "      buttonEl.style.display =\n",
              "        google.colab.kernel.accessAllowed ? 'block' : 'none';\n",
              "\n",
              "      async function convertToInteractive(key) {\n",
              "        const element = document.querySelector('#df-9efb282f-071b-4aaf-b91f-57b3c1508d4e');\n",
              "        const dataTable =\n",
              "          await google.colab.kernel.invokeFunction('convertToInteractive',\n",
              "                                                    [key], {});\n",
              "        if (!dataTable) return;\n",
              "\n",
              "        const docLinkHtml = 'Like what you see? Visit the ' +\n",
              "          '<a target=\"_blank\" href=https://colab.research.google.com/notebooks/data_table.ipynb>data table notebook</a>'\n",
              "          + ' to learn more about interactive tables.';\n",
              "        element.innerHTML = '';\n",
              "        dataTable['output_type'] = 'display_data';\n",
              "        await google.colab.output.renderOutput(dataTable, element);\n",
              "        const docLink = document.createElement('div');\n",
              "        docLink.innerHTML = docLinkHtml;\n",
              "        element.appendChild(docLink);\n",
              "      }\n",
              "    </script>\n",
              "  </div>\n",
              "\n",
              "\n",
              "<div id=\"df-65a7a4f1-3519-4cc1-844b-064bbfd79055\">\n",
              "  <button class=\"colab-df-quickchart\" onclick=\"quickchart('df-65a7a4f1-3519-4cc1-844b-064bbfd79055')\"\n",
              "            title=\"Suggest charts.\"\n",
              "            style=\"display:none;\">\n",
              "\n",
              "<svg xmlns=\"http://www.w3.org/2000/svg\" height=\"24px\"viewBox=\"0 0 24 24\"\n",
              "     width=\"24px\">\n",
              "    <g>\n",
              "        <path d=\"M19 3H5c-1.1 0-2 .9-2 2v14c0 1.1.9 2 2 2h14c1.1 0 2-.9 2-2V5c0-1.1-.9-2-2-2zM9 17H7v-7h2v7zm4 0h-2V7h2v10zm4 0h-2v-4h2v4z\"/>\n",
              "    </g>\n",
              "</svg>\n",
              "  </button>\n",
              "\n",
              "<style>\n",
              "  .colab-df-quickchart {\n",
              "      --bg-color: #E8F0FE;\n",
              "      --fill-color: #1967D2;\n",
              "      --hover-bg-color: #E2EBFA;\n",
              "      --hover-fill-color: #174EA6;\n",
              "      --disabled-fill-color: #AAA;\n",
              "      --disabled-bg-color: #DDD;\n",
              "  }\n",
              "\n",
              "  [theme=dark] .colab-df-quickchart {\n",
              "      --bg-color: #3B4455;\n",
              "      --fill-color: #D2E3FC;\n",
              "      --hover-bg-color: #434B5C;\n",
              "      --hover-fill-color: #FFFFFF;\n",
              "      --disabled-bg-color: #3B4455;\n",
              "      --disabled-fill-color: #666;\n",
              "  }\n",
              "\n",
              "  .colab-df-quickchart {\n",
              "    background-color: var(--bg-color);\n",
              "    border: none;\n",
              "    border-radius: 50%;\n",
              "    cursor: pointer;\n",
              "    display: none;\n",
              "    fill: var(--fill-color);\n",
              "    height: 32px;\n",
              "    padding: 0;\n",
              "    width: 32px;\n",
              "  }\n",
              "\n",
              "  .colab-df-quickchart:hover {\n",
              "    background-color: var(--hover-bg-color);\n",
              "    box-shadow: 0 1px 2px rgba(60, 64, 67, 0.3), 0 1px 3px 1px rgba(60, 64, 67, 0.15);\n",
              "    fill: var(--button-hover-fill-color);\n",
              "  }\n",
              "\n",
              "  .colab-df-quickchart-complete:disabled,\n",
              "  .colab-df-quickchart-complete:disabled:hover {\n",
              "    background-color: var(--disabled-bg-color);\n",
              "    fill: var(--disabled-fill-color);\n",
              "    box-shadow: none;\n",
              "  }\n",
              "\n",
              "  .colab-df-spinner {\n",
              "    border: 2px solid var(--fill-color);\n",
              "    border-color: transparent;\n",
              "    border-bottom-color: var(--fill-color);\n",
              "    animation:\n",
              "      spin 1s steps(1) infinite;\n",
              "  }\n",
              "\n",
              "  @keyframes spin {\n",
              "    0% {\n",
              "      border-color: transparent;\n",
              "      border-bottom-color: var(--fill-color);\n",
              "      border-left-color: var(--fill-color);\n",
              "    }\n",
              "    20% {\n",
              "      border-color: transparent;\n",
              "      border-left-color: var(--fill-color);\n",
              "      border-top-color: var(--fill-color);\n",
              "    }\n",
              "    30% {\n",
              "      border-color: transparent;\n",
              "      border-left-color: var(--fill-color);\n",
              "      border-top-color: var(--fill-color);\n",
              "      border-right-color: var(--fill-color);\n",
              "    }\n",
              "    40% {\n",
              "      border-color: transparent;\n",
              "      border-right-color: var(--fill-color);\n",
              "      border-top-color: var(--fill-color);\n",
              "    }\n",
              "    60% {\n",
              "      border-color: transparent;\n",
              "      border-right-color: var(--fill-color);\n",
              "    }\n",
              "    80% {\n",
              "      border-color: transparent;\n",
              "      border-right-color: var(--fill-color);\n",
              "      border-bottom-color: var(--fill-color);\n",
              "    }\n",
              "    90% {\n",
              "      border-color: transparent;\n",
              "      border-bottom-color: var(--fill-color);\n",
              "    }\n",
              "  }\n",
              "</style>\n",
              "\n",
              "  <script>\n",
              "    async function quickchart(key) {\n",
              "      const quickchartButtonEl =\n",
              "        document.querySelector('#' + key + ' button');\n",
              "      quickchartButtonEl.disabled = true;  // To prevent multiple clicks.\n",
              "      quickchartButtonEl.classList.add('colab-df-spinner');\n",
              "      try {\n",
              "        const charts = await google.colab.kernel.invokeFunction(\n",
              "            'suggestCharts', [key], {});\n",
              "      } catch (error) {\n",
              "        console.error('Error during call to suggestCharts:', error);\n",
              "      }\n",
              "      quickchartButtonEl.classList.remove('colab-df-spinner');\n",
              "      quickchartButtonEl.classList.add('colab-df-quickchart-complete');\n",
              "    }\n",
              "    (() => {\n",
              "      let quickchartButtonEl =\n",
              "        document.querySelector('#df-65a7a4f1-3519-4cc1-844b-064bbfd79055 button');\n",
              "      quickchartButtonEl.style.display =\n",
              "        google.colab.kernel.accessAllowed ? 'block' : 'none';\n",
              "    })();\n",
              "  </script>\n",
              "</div>\n",
              "    </div>\n",
              "  </div>\n"
            ]
          },
          "metadata": {},
          "execution_count": 47
        }
      ]
    },
    {
      "cell_type": "markdown",
      "source": [
        "**Find and replace missing values**"
      ],
      "metadata": {
        "id": "XOo-DQCPeKxU"
      }
    },
    {
      "cell_type": "code",
      "source": [
        "# find the total missing values present\n",
        "books_dataset.isna().sum()"
      ],
      "metadata": {
        "colab": {
          "base_uri": "https://localhost:8080/"
        },
        "id": "smpvpD9jblId",
        "outputId": "fd6bd6e3-f1b7-4c48-8020-ca8fb1481d38"
      },
      "execution_count": null,
      "outputs": [
        {
          "output_type": "execute_result",
          "data": {
            "text/plain": [
              "bookID                0\n",
              "title                 0\n",
              "authors               0\n",
              "average_rating        0\n",
              "isbn                  0\n",
              "isbn13                0\n",
              "language_code         0\n",
              "num_pages             0\n",
              "ratings_count         0\n",
              "text_reviews_count    0\n",
              "publication_date      0\n",
              "publisher             0\n",
              "dtype: int64"
            ]
          },
          "metadata": {},
          "execution_count": 48
        }
      ]
    },
    {
      "cell_type": "code",
      "source": [
        "# alternative method to find the null values\n",
        "books_dataset.isnull().sum()"
      ],
      "metadata": {
        "colab": {
          "base_uri": "https://localhost:8080/"
        },
        "id": "R2XpxuswdB7-",
        "outputId": "deff8533-cd96-4d37-9d5e-96371d4daf97"
      },
      "execution_count": null,
      "outputs": [
        {
          "output_type": "execute_result",
          "data": {
            "text/plain": [
              "bookID                0\n",
              "title                 0\n",
              "authors               0\n",
              "average_rating        0\n",
              "isbn                  0\n",
              "isbn13                0\n",
              "language_code         0\n",
              "num_pages             0\n",
              "ratings_count         0\n",
              "text_reviews_count    0\n",
              "publication_date      0\n",
              "publisher             0\n",
              "dtype: int64"
            ]
          },
          "metadata": {},
          "execution_count": 49
        }
      ]
    },
    {
      "cell_type": "markdown",
      "source": [
        "**Treat the outliers**"
      ],
      "metadata": {
        "id": "1SM4_aHeeiWS"
      }
    },
    {
      "cell_type": "code",
      "source": [
        "df = books_dataset[['average_rating','isbn13','num_pages','ratings_count','text_reviews_count']]"
      ],
      "metadata": {
        "id": "WSuV7Lxe0IZT"
      },
      "execution_count": null,
      "outputs": []
    },
    {
      "cell_type": "code",
      "source": [
        "# overall boxplot for all the numeric variables\n",
        "\n",
        "df.boxplot(figsize=(20,20))\n",
        "plt.semilogy()"
      ],
      "metadata": {
        "colab": {
          "base_uri": "https://localhost:8080/",
          "height": 1000
        },
        "id": "cw583jC7zfqA",
        "outputId": "8f365a2d-d1e6-4212-f62a-6bf0f1aa0bd4"
      },
      "execution_count": null,
      "outputs": [
        {
          "output_type": "execute_result",
          "data": {
            "text/plain": [
              "[]"
            ]
          },
          "metadata": {},
          "execution_count": 51
        },
        {
          "output_type": "display_data",
          "data": {
            "text/plain": [
              "<Figure size 2000x2000 with 1 Axes>"
            ],
            "image/png": "[encoded data removed]"
          },
          "metadata": {}
        }
      ]
    },
    {
      "cell_type": "code",
      "source": [
        "green_diamond = dict(markerfacecolor='g', marker='D')\n",
        "fig1, ax1 = plt.subplots()\n",
        "ax1.set_title('Average Rating Outliers')\n",
        "ax1.boxplot(df['average_rating'], flierprops=green_diamond)"
      ],
      "metadata": {
        "colab": {
          "base_uri": "https://localhost:8080/",
          "height": 591
        },
        "id": "JR1L21ss1Msf",
        "outputId": "6f40feb1-ea32-4320-ada0-a28f0c5a1ebb"
      },
      "execution_count": null,
      "outputs": [
        {
          "output_type": "execute_result",
          "data": {
            "text/plain": [
              "{'whiskers': [<matplotlib.lines.Line2D at 0x7b5eff803b20>,\n",
              "  <matplotlib.lines.Line2D at 0x7b5eff800af0>],\n",
              " 'caps': [<matplotlib.lines.Line2D at 0x7b5eff8016f0>,\n",
              "  <matplotlib.lines.Line2D at 0x7b5efe902b90>],\n",
              " 'boxes': [<matplotlib.lines.Line2D at 0x7b5eff807eb0>],\n",
              " 'medians': [<matplotlib.lines.Line2D at 0x7b5efe900dc0>],\n",
              " 'fliers': [<matplotlib.lines.Line2D at 0x7b5efe900bb0>],\n",
              " 'means': []}"
            ]
          },
          "metadata": {},
          "execution_count": 52
        },
        {
          "output_type": "display_data",
          "data": {
            "text/plain": [
              "<Figure size 640x480 with 1 Axes>"
            ],
            "image/png": "[encoded data removed]"
          },
          "metadata": {}
        }
      ]
    },
    {
      "cell_type": "code",
      "source": [
        "# values with exponential\n",
        "\n",
        "green_diamond = dict(markerfacecolor='g', marker='D')\n",
        "fig1, ax1 = plt.subplots()\n",
        "ax1.set_title('isbn 13 Outliers')\n",
        "ax1.boxplot(df['isbn13'], flierprops=green_diamond)"
      ],
      "metadata": {
        "colab": {
          "base_uri": "https://localhost:8080/",
          "height": 591
        },
        "id": "qtbFWQXZ42cy",
        "outputId": "2872c7a0-7071-4670-c04d-ad5b5b432f10"
      },
      "execution_count": null,
      "outputs": [
        {
          "output_type": "execute_result",
          "data": {
            "text/plain": [
              "{'whiskers': [<matplotlib.lines.Line2D at 0x7b5efe88cc70>,\n",
              "  <matplotlib.lines.Line2D at 0x7b5efe88cf10>],\n",
              " 'caps': [<matplotlib.lines.Line2D at 0x7b5efe88d1b0>,\n",
              "  <matplotlib.lines.Line2D at 0x7b5efe88d450>],\n",
              " 'boxes': [<matplotlib.lines.Line2D at 0x7b5efe88c9d0>],\n",
              " 'medians': [<matplotlib.lines.Line2D at 0x7b5efe88d6f0>],\n",
              " 'fliers': [<matplotlib.lines.Line2D at 0x7b5efe88d990>],\n",
              " 'means': []}"
            ]
          },
          "metadata": {},
          "execution_count": 53
        },
        {
          "output_type": "display_data",
          "data": {
            "text/plain": [
              "<Figure size 640x480 with 1 Axes>"
            ],
            "image/png": "[encoded data removed]"
          },
          "metadata": {}
        }
      ]
    },
    {
      "cell_type": "code",
      "source": [
        "# with log values\n",
        "green_diamond = dict(markerfacecolor='g', marker='D')\n",
        "fig1, ax1 = plt.subplots()\n",
        "ax1.set_title('isbn 13 Outliers')\n",
        "ax1.boxplot(np.log(df['isbn13']), flierprops=green_diamond)"
      ],
      "metadata": {
        "colab": {
          "base_uri": "https://localhost:8080/",
          "height": 591
        },
        "id": "n-9xzGMR8FSV",
        "outputId": "9624576e-d33e-461a-b5ae-1b94220f2286"
      },
      "execution_count": null,
      "outputs": [
        {
          "output_type": "execute_result",
          "data": {
            "text/plain": [
              "{'whiskers': [<matplotlib.lines.Line2D at 0x7b5efa947a60>,\n",
              "  <matplotlib.lines.Line2D at 0x7b5efa947d00>],\n",
              " 'caps': [<matplotlib.lines.Line2D at 0x7b5efa947fa0>,\n",
              "  <matplotlib.lines.Line2D at 0x7b5efa974280>],\n",
              " 'boxes': [<matplotlib.lines.Line2D at 0x7b5efa9477c0>],\n",
              " 'medians': [<matplotlib.lines.Line2D at 0x7b5efa974520>],\n",
              " 'fliers': [<matplotlib.lines.Line2D at 0x7b5efa9747c0>],\n",
              " 'means': []}"
            ]
          },
          "metadata": {},
          "execution_count": 54
        },
        {
          "output_type": "display_data",
          "data": {
            "text/plain": [
              "<Figure size 640x480 with 1 Axes>"
            ],
            "image/png": "[encoded data removed]"
          },
          "metadata": {}
        }
      ]
    },
    {
      "cell_type": "code",
      "source": [
        "green_diamond = dict(markerfacecolor='g', marker='D')\n",
        "fig1, ax1 = plt.subplots()\n",
        "ax1.set_title('Num_Pages Outliers')\n",
        "ax1.boxplot(df['num_pages'], flierprops=green_diamond)"
      ],
      "metadata": {
        "colab": {
          "base_uri": "https://localhost:8080/",
          "height": 591
        },
        "id": "G4jRKlJG9Rm8",
        "outputId": "9e338703-2ea8-4010-d430-84248e7c0084"
      },
      "execution_count": null,
      "outputs": [
        {
          "output_type": "execute_result",
          "data": {
            "text/plain": [
              "{'whiskers': [<matplotlib.lines.Line2D at 0x7b5efa9ce9b0>,\n",
              "  <matplotlib.lines.Line2D at 0x7b5efa9cec80>],\n",
              " 'caps': [<matplotlib.lines.Line2D at 0x7b5efa9cef20>,\n",
              "  <matplotlib.lines.Line2D at 0x7b5efa9cf1c0>],\n",
              " 'boxes': [<matplotlib.lines.Line2D at 0x7b5efa9ce710>],\n",
              " 'medians': [<matplotlib.lines.Line2D at 0x7b5efa9cf460>],\n",
              " 'fliers': [<matplotlib.lines.Line2D at 0x7b5efa9cf700>],\n",
              " 'means': []}"
            ]
          },
          "metadata": {},
          "execution_count": 55
        },
        {
          "output_type": "display_data",
          "data": {
            "text/plain": [
              "<Figure size 640x480 with 1 Axes>"
            ],
            "image/png": "[encoded data removed]"
          },
          "metadata": {}
        }
      ]
    },
    {
      "cell_type": "code",
      "source": [
        "green_diamond = dict(markerfacecolor='g', marker='D')\n",
        "fig1, ax1 = plt.subplots()\n",
        "ax1.set_title('Rating Counts Outliers')\n",
        "ax1.boxplot(df['ratings_count'], flierprops=green_diamond)"
      ],
      "metadata": {
        "colab": {
          "base_uri": "https://localhost:8080/",
          "height": 591
        },
        "id": "-CKrmDdr-h5E",
        "outputId": "23e4f3d6-80bf-45e5-da5b-2eb514b0c4d7"
      },
      "execution_count": null,
      "outputs": [
        {
          "output_type": "execute_result",
          "data": {
            "text/plain": [
              "{'whiskers': [<matplotlib.lines.Line2D at 0x7b5efa83dc00>,\n",
              "  <matplotlib.lines.Line2D at 0x7b5efa83dea0>],\n",
              " 'caps': [<matplotlib.lines.Line2D at 0x7b5efa83e140>,\n",
              "  <matplotlib.lines.Line2D at 0x7b5efa83e3e0>],\n",
              " 'boxes': [<matplotlib.lines.Line2D at 0x7b5efa83d960>],\n",
              " 'medians': [<matplotlib.lines.Line2D at 0x7b5efa83e680>],\n",
              " 'fliers': [<matplotlib.lines.Line2D at 0x7b5efa83e920>],\n",
              " 'means': []}"
            ]
          },
          "metadata": {},
          "execution_count": 56
        },
        {
          "output_type": "display_data",
          "data": {
            "text/plain": [
              "<Figure size 640x480 with 1 Axes>"
            ],
            "image/png": "[encoded data removed]"
          },
          "metadata": {}
        }
      ]
    },
    {
      "cell_type": "code",
      "source": [
        "green_diamond = dict(markerfacecolor='g', marker='D')\n",
        "fig1, ax1 = plt.subplots()\n",
        "ax1.set_title('Rating Counts Outliers')\n",
        "ax1.boxplot(np.log(df['ratings_count']), flierprops=green_diamond)"
      ],
      "metadata": {
        "colab": {
          "base_uri": "https://localhost:8080/",
          "height": 626
        },
        "id": "OI6dUs_o-92H",
        "outputId": "86320686-fb27-4ab3-84c4-cfd1fde217b0"
      },
      "execution_count": null,
      "outputs": [
        {
          "output_type": "stream",
          "name": "stderr",
          "text": [
            "/usr/local/lib/python3.10/dist-packages/pandas/core/arraylike.py:402: RuntimeWarning: divide by zero encountered in log\n",
            "  result = getattr(ufunc, method)(*inputs, **kwargs)\n"
          ]
        },
        {
          "output_type": "execute_result",
          "data": {
            "text/plain": [
              "{'whiskers': [<matplotlib.lines.Line2D at 0x7b5efa8c03a0>,\n",
              "  <matplotlib.lines.Line2D at 0x7b5efa8c0640>],\n",
              " 'caps': [<matplotlib.lines.Line2D at 0x7b5efa8c08e0>,\n",
              "  <matplotlib.lines.Line2D at 0x7b5efa8c0b80>],\n",
              " 'boxes': [<matplotlib.lines.Line2D at 0x7b5efa8c0220>],\n",
              " 'medians': [<matplotlib.lines.Line2D at 0x7b5efa8c0e20>],\n",
              " 'fliers': [<matplotlib.lines.Line2D at 0x7b5efa8c10c0>],\n",
              " 'means': []}"
            ]
          },
          "metadata": {},
          "execution_count": 57
        },
        {
          "output_type": "display_data",
          "data": {
            "text/plain": [
              "<Figure size 640x480 with 1 Axes>"
            ],
            "image/png": "[encoded data removed]"
          },
          "metadata": {}
        }
      ]
    },
    {
      "cell_type": "code",
      "source": [
        "green_diamond = dict(markerfacecolor='g', marker='D')\n",
        "fig1, ax1 = plt.subplots()\n",
        "ax1.set_title('Text Review Counts Outliers')\n",
        "ax1.boxplot(df['text_reviews_count'], flierprops=green_diamond)"
      ],
      "metadata": {
        "colab": {
          "base_uri": "https://localhost:8080/",
          "height": 591
        },
        "id": "FUmWKcSJ_HKl",
        "outputId": "e47e6457-2163-4293-8114-054f61e16e27"
      },
      "execution_count": null,
      "outputs": [
        {
          "output_type": "execute_result",
          "data": {
            "text/plain": [
              "{'whiskers': [<matplotlib.lines.Line2D at 0x7b5efa734d30>,\n",
              "  <matplotlib.lines.Line2D at 0x7b5efa734fd0>],\n",
              " 'caps': [<matplotlib.lines.Line2D at 0x7b5efa735270>,\n",
              "  <matplotlib.lines.Line2D at 0x7b5efa735510>],\n",
              " 'boxes': [<matplotlib.lines.Line2D at 0x7b5efa734a90>],\n",
              " 'medians': [<matplotlib.lines.Line2D at 0x7b5efa7357b0>],\n",
              " 'fliers': [<matplotlib.lines.Line2D at 0x7b5efa735a50>],\n",
              " 'means': []}"
            ]
          },
          "metadata": {},
          "execution_count": 58
        },
        {
          "output_type": "display_data",
          "data": {
            "text/plain": [
              "<Figure size 640x480 with 1 Axes>"
            ],
            "image/png": "[encoded data removed]"
          },
          "metadata": {}
        }
      ]
    },
    {
      "cell_type": "code",
      "source": [
        "# each numeric variable is having outlier to treat it, the use of capping by normalizing the values\n",
        "\n",
        "def scaling_outliers(x):\n",
        "    quant = np.percentile(x, q=[25, 75])\n",
        "    cap = np.percentile(x, q=[5, 95])\n",
        "    q = 1.5 * (quant[1] - quant[0])\n",
        "\n",
        "    x[x < (quant[0] - q)] = cap[0]\n",
        "    x[x > (quant[1] + q)] = cap[1]\n",
        "\n",
        "    return x"
      ],
      "metadata": {
        "id": "km7ZMS9f_5rv"
      },
      "execution_count": null,
      "outputs": []
    },
    {
      "cell_type": "code",
      "source": [
        "books_dataset[df.columns] = books_dataset[df.columns].apply(scaling_outliers)\n"
      ],
      "metadata": {
        "id": "YiPQWj5NCXp3"
      },
      "execution_count": null,
      "outputs": []
    },
    {
      "cell_type": "markdown",
      "source": [
        "**Plots after treating the outliers**"
      ],
      "metadata": {
        "id": "Sb8-PZ3XEutg"
      }
    },
    {
      "cell_type": "code",
      "source": [
        "# overall detecting outliers with boxplot after scaling the outliers\n",
        "\n",
        "df1 = books_dataset[df.columns]\n",
        "df1.boxplot(figsize=(20,20))\n",
        "plt.semilogy()"
      ],
      "metadata": {
        "colab": {
          "base_uri": "https://localhost:8080/",
          "height": 1000
        },
        "id": "PzwvF0PILLar",
        "outputId": "70397a03-4d2b-4d00-c4ea-db58772ae530"
      },
      "execution_count": null,
      "outputs": [
        {
          "output_type": "execute_result",
          "data": {
            "text/plain": [
              "[]"
            ]
          },
          "metadata": {},
          "execution_count": 61
        },
        {
          "output_type": "display_data",
          "data": {
            "text/plain": [
              "<Figure size 2000x2000 with 1 Axes>"
            ],
            "image/png": "[encoded data removed]"
          },
          "metadata": {}
        }
      ]
    },
    {
      "cell_type": "markdown",
      "source": [
        "**Remove duplicated values**"
      ],
      "metadata": {
        "id": "PoCNJxDZpz4r"
      }
    },
    {
      "cell_type": "code",
      "source": [
        "# remove duplicated values from books title\n",
        "books_dataset.duplicated(subset='title').sum()"
      ],
      "metadata": {
        "id": "cioGLvLUTWMq",
        "colab": {
          "base_uri": "https://localhost:8080/"
        },
        "outputId": "7734822b-d0de-43bf-e794-69e5ab2b9b52"
      },
      "execution_count": null,
      "outputs": [
        {
          "output_type": "execute_result",
          "data": {
            "text/plain": [
              "775"
            ]
          },
          "metadata": {},
          "execution_count": 62
        }
      ]
    },
    {
      "cell_type": "code",
      "source": [
        "books_dataset = books_dataset.drop_duplicates(subset='title')"
      ],
      "metadata": {
        "id": "TKG7Cv7Bop_X"
      },
      "execution_count": null,
      "outputs": []
    },
    {
      "cell_type": "code",
      "source": [
        "# check for the duplicated values again\n",
        "books_dataset.duplicated(subset='title').sum()"
      ],
      "metadata": {
        "colab": {
          "base_uri": "https://localhost:8080/"
        },
        "id": "x3_HGZijplw4",
        "outputId": "8598fc79-ed2d-47db-e220-e871c4bfc321"
      },
      "execution_count": null,
      "outputs": [
        {
          "output_type": "execute_result",
          "data": {
            "text/plain": [
              "0"
            ]
          },
          "metadata": {},
          "execution_count": 65
        }
      ]
    },
    {
      "cell_type": "markdown",
      "source": [
        "**Data Cleaning**"
      ],
      "metadata": {
        "id": "wJbeVaT7quBv"
      }
    },
    {
      "cell_type": "code",
      "source": [
        "books_dataset.head()"
      ],
      "metadata": {
        "colab": {
          "base_uri": "https://localhost:8080/",
          "height": 747
        },
        "id": "y9Uwdavwq4Bo",
        "outputId": "2ecec9f6-7bdf-49e2-99a6-cbd56b78cc92"
      },
      "execution_count": null,
      "outputs": [
        {
          "output_type": "execute_result",
          "data": {
            "text/plain": [
              "   bookID                                              title  \\\n",
              "0       1  harry potter and the half-blood prince (harry ...   \n",
              "1       2  harry potter and the order of the phoenix (har...   \n",
              "2       4  harry potter and the chamber of secrets (harry...   \n",
              "3       5  harry potter and the prisoner of azkaban (harr...   \n",
              "4       8  harry potter boxed set  books 1-5 (harry potte...   \n",
              "\n",
              "                    authors  average_rating        isbn        isbn13  \\\n",
              "0  j.k.rowling/marygrandpré            4.57  0439785960  9.780440e+12   \n",
              "1  j.k.rowling/marygrandpré            4.49  0439358078  9.780439e+12   \n",
              "2               j.k.rowling            4.42  0439554896  9.780440e+12   \n",
              "3  j.k.rowling/marygrandpré            4.56  043965548X  9.780440e+12   \n",
              "4  j.k.rowling/marygrandpré            4.38  0439682584  9.780440e+12   \n",
              "\n",
              "  language_code  num_pages  ratings_count  text_reviews_count  \\\n",
              "0           eng        652        61114.0              2158.9   \n",
              "1           eng        752        61114.0              2158.9   \n",
              "2           eng        352         6333.0               244.0   \n",
              "3           eng        435        61114.0              2158.9   \n",
              "4           eng        752        61114.0               164.0   \n",
              "\n",
              "  publication_date        publisher  \n",
              "0        9/16/2006  scholastic inc.  \n",
              "1         9/1/2004  scholastic inc.  \n",
              "2        11/1/2003       scholastic  \n",
              "3         5/1/2004  scholastic inc.  \n",
              "4        9/13/2004       scholastic  "
            ],
            "text/html": [
              "\n",
              "  <div id=\"df-3cb2321c-4da9-4cac-bcc0-dfb82e02bc5f\" class=\"colab-df-container\">\n",
              "    <div>\n",
              "<style scoped>\n",
              "    .dataframe tbody tr th:only-of-type {\n",
              "        vertical-align: middle;\n",
              "    }\n",
              "\n",
              "    .dataframe tbody tr th {\n",
              "        vertical-align: top;\n",
              "    }\n",
              "\n",
              "    .dataframe thead th {\n",
              "        text-align: right;\n",
              "    }\n",
              "</style>\n",
              "<table border=\"1\" class=\"dataframe\">\n",
              "  <thead>\n",
              "    <tr style=\"text-align: right;\">\n",
              "      <th></th>\n",
              "      <th>bookID</th>\n",
              "      <th>title</th>\n",
              "      <th>authors</th>\n",
              "      <th>average_rating</th>\n",
              "      <th>isbn</th>\n",
              "      <th>isbn13</th>\n",
              "      <th>language_code</th>\n",
              "      <th>num_pages</th>\n",
              "      <th>ratings_count</th>\n",
              "      <th>text_reviews_count</th>\n",
              "      <th>publication_date</th>\n",
              "      <th>publisher</th>\n",
              "    </tr>\n",
              "  </thead>\n",
              "  <tbody>\n",
              "    <tr>\n",
              "      <th>0</th>\n",
              "      <td>1</td>\n",
              "      <td>harry potter and the half-blood prince (harry ...</td>\n",
              "      <td>j.k.rowling/marygrandpré</td>\n",
              "      <td>4.57</td>\n",
              "      <td>0439785960</td>\n",
              "      <td>9.780440e+12</td>\n",
              "      <td>eng</td>\n",
              "      <td>652</td>\n",
              "      <td>61114.0</td>\n",
              "      <td>2158.9</td>\n",
              "      <td>9/16/2006</td>\n",
              "      <td>scholastic inc.</td>\n",
              "    </tr>\n",
              "    <tr>\n",
              "      <th>1</th>\n",
              "      <td>2</td>\n",
              "      <td>harry potter and the order of the phoenix (har...</td>\n",
              "      <td>j.k.rowling/marygrandpré</td>\n",
              "      <td>4.49</td>\n",
              "      <td>0439358078</td>\n",
              "      <td>9.780439e+12</td>\n",
              "      <td>eng</td>\n",
              "      <td>752</td>\n",
              "      <td>61114.0</td>\n",
              "      <td>2158.9</td>\n",
              "      <td>9/1/2004</td>\n",
              "      <td>scholastic inc.</td>\n",
              "    </tr>\n",
              "    <tr>\n",
              "      <th>2</th>\n",
              "      <td>4</td>\n",
              "      <td>harry potter and the chamber of secrets (harry...</td>\n",
              "      <td>j.k.rowling</td>\n",
              "      <td>4.42</td>\n",
              "      <td>0439554896</td>\n",
              "      <td>9.780440e+12</td>\n",
              "      <td>eng</td>\n",
              "      <td>352</td>\n",
              "      <td>6333.0</td>\n",
              "      <td>244.0</td>\n",
              "      <td>11/1/2003</td>\n",
              "      <td>scholastic</td>\n",
              "    </tr>\n",
              "    <tr>\n",
              "      <th>3</th>\n",
              "      <td>5</td>\n",
              "      <td>harry potter and the prisoner of azkaban (harr...</td>\n",
              "      <td>j.k.rowling/marygrandpré</td>\n",
              "      <td>4.56</td>\n",
              "      <td>043965548X</td>\n",
              "      <td>9.780440e+12</td>\n",
              "      <td>eng</td>\n",
              "      <td>435</td>\n",
              "      <td>61114.0</td>\n",
              "      <td>2158.9</td>\n",
              "      <td>5/1/2004</td>\n",
              "      <td>scholastic inc.</td>\n",
              "    </tr>\n",
              "    <tr>\n",
              "      <th>4</th>\n",
              "      <td>8</td>\n",
              "      <td>harry potter boxed set  books 1-5 (harry potte...</td>\n",
              "      <td>j.k.rowling/marygrandpré</td>\n",
              "      <td>4.38</td>\n",
              "      <td>0439682584</td>\n",
              "      <td>9.780440e+12</td>\n",
              "      <td>eng</td>\n",
              "      <td>752</td>\n",
              "      <td>61114.0</td>\n",
              "      <td>164.0</td>\n",
              "      <td>9/13/2004</td>\n",
              "      <td>scholastic</td>\n",
              "    </tr>\n",
              "  </tbody>\n",
              "</table>\n",
              "</div>\n",
              "    <div class=\"colab-df-buttons\">\n",
              "\n",
              "  <div class=\"colab-df-container\">\n",
              "    <button class=\"colab-df-convert\" onclick=\"convertToInteractive('df-3cb2321c-4da9-4cac-bcc0-dfb82e02bc5f')\"\n",
              "            title=\"Convert this dataframe to an interactive table.\"\n",
              "            style=\"display:none;\">\n",
              "\n",
              "  <svg xmlns=\"http://www.w3.org/2000/svg\" height=\"24px\" viewBox=\"0 -960 960 960\">\n",
              "    <path d=\"M120-120v-720h720v720H120Zm60-500h600v-160H180v160Zm220 220h160v-160H400v160Zm0 220h160v-160H400v160ZM180-400h160v-160H180v160Zm440 0h160v-160H620v160ZM180-180h160v-160H180v160Zm440 0h160v-160H620v160Z\"/>\n",
              "  </svg>\n",
              "    </button>\n",
              "\n",
              "  <style>\n",
              "    .colab-df-container {\n",
              "      display:flex;\n",
              "      gap: 12px;\n",
              "    }\n",
              "\n",
              "    .colab-df-convert {\n",
              "      background-color: #E8F0FE;\n",
              "      border: none;\n",
              "      border-radius: 50%;\n",
              "      cursor: pointer;\n",
              "      display: none;\n",
              "      fill: #1967D2;\n",
              "      height: 32px;\n",
              "      padding: 0 0 0 0;\n",
              "      width: 32px;\n",
              "    }\n",
              "\n",
              "    .colab-df-convert:hover {\n",
              "      background-color: #E2EBFA;\n",
              "      box-shadow: 0px 1px 2px rgba(60, 64, 67, 0.3), 0px 1px 3px 1px rgba(60, 64, 67, 0.15);\n",
              "      fill: #174EA6;\n",
              "    }\n",
              "\n",
              "    .colab-df-buttons div {\n",
              "      margin-bottom: 4px;\n",
              "    }\n",
              "\n",
              "    [theme=dark] .colab-df-convert {\n",
              "      background-color: #3B4455;\n",
              "      fill: #D2E3FC;\n",
              "    }\n",
              "\n",
              "    [theme=dark] .colab-df-convert:hover {\n",
              "      background-color: #434B5C;\n",
              "      box-shadow: 0px 1px 3px 1px rgba(0, 0, 0, 0.15);\n",
              "      filter: drop-shadow(0px 1px 2px rgba(0, 0, 0, 0.3));\n",
              "      fill: #FFFFFF;\n",
              "    }\n",
              "  </style>\n",
              "\n",
              "    <script>\n",
              "      const buttonEl =\n",
              "        document.querySelector('#df-3cb2321c-4da9-4cac-bcc0-dfb82e02bc5f button.colab-df-convert');\n",
              "      buttonEl.style.display =\n",
              "        google.colab.kernel.accessAllowed ? 'block' : 'none';\n",
              "\n",
              "      async function convertToInteractive(key) {\n",
              "        const element = document.querySelector('#df-3cb2321c-4da9-4cac-bcc0-dfb82e02bc5f');\n",
              "        const dataTable =\n",
              "          await google.colab.kernel.invokeFunction('convertToInteractive',\n",
              "                                                    [key], {});\n",
              "        if (!dataTable) return;\n",
              "\n",
              "        const docLinkHtml = 'Like what you see? Visit the ' +\n",
              "          '<a target=\"_blank\" href=https://colab.research.google.com/notebooks/data_table.ipynb>data table notebook</a>'\n",
              "          + ' to learn more about interactive tables.';\n",
              "        element.innerHTML = '';\n",
              "        dataTable['output_type'] = 'display_data';\n",
              "        await google.colab.output.renderOutput(dataTable, element);\n",
              "        const docLink = document.createElement('div');\n",
              "        docLink.innerHTML = docLinkHtml;\n",
              "        element.appendChild(docLink);\n",
              "      }\n",
              "    </script>\n",
              "  </div>\n",
              "\n",
              "\n",
              "<div id=\"df-f526ee55-e73b-4345-9660-35edad439980\">\n",
              "  <button class=\"colab-df-quickchart\" onclick=\"quickchart('df-f526ee55-e73b-4345-9660-35edad439980')\"\n",
              "            title=\"Suggest charts.\"\n",
              "            style=\"display:none;\">\n",
              "\n",
              "<svg xmlns=\"http://www.w3.org/2000/svg\" height=\"24px\"viewBox=\"0 0 24 24\"\n",
              "     width=\"24px\">\n",
              "    <g>\n",
              "        <path d=\"M19 3H5c-1.1 0-2 .9-2 2v14c0 1.1.9 2 2 2h14c1.1 0 2-.9 2-2V5c0-1.1-.9-2-2-2zM9 17H7v-7h2v7zm4 0h-2V7h2v10zm4 0h-2v-4h2v4z\"/>\n",
              "    </g>\n",
              "</svg>\n",
              "  </button>\n",
              "\n",
              "<style>\n",
              "  .colab-df-quickchart {\n",
              "      --bg-color: #E8F0FE;\n",
              "      --fill-color: #1967D2;\n",
              "      --hover-bg-color: #E2EBFA;\n",
              "      --hover-fill-color: #174EA6;\n",
              "      --disabled-fill-color: #AAA;\n",
              "      --disabled-bg-color: #DDD;\n",
              "  }\n",
              "\n",
              "  [theme=dark] .colab-df-quickchart {\n",
              "      --bg-color: #3B4455;\n",
              "      --fill-color: #D2E3FC;\n",
              "      --hover-bg-color: #434B5C;\n",
              "      --hover-fill-color: #FFFFFF;\n",
              "      --disabled-bg-color: #3B4455;\n",
              "      --disabled-fill-color: #666;\n",
              "  }\n",
              "\n",
              "  .colab-df-quickchart {\n",
              "    background-color: var(--bg-color);\n",
              "    border: none;\n",
              "    border-radius: 50%;\n",
              "    cursor: pointer;\n",
              "    display: none;\n",
              "    fill: var(--fill-color);\n",
              "    height: 32px;\n",
              "    padding: 0;\n",
              "    width: 32px;\n",
              "  }\n",
              "\n",
              "  .colab-df-quickchart:hover {\n",
              "    background-color: var(--hover-bg-color);\n",
              "    box-shadow: 0 1px 2px rgba(60, 64, 67, 0.3), 0 1px 3px 1px rgba(60, 64, 67, 0.15);\n",
              "    fill: var(--button-hover-fill-color);\n",
              "  }\n",
              "\n",
              "  .colab-df-quickchart-complete:disabled,\n",
              "  .colab-df-quickchart-complete:disabled:hover {\n",
              "    background-color: var(--disabled-bg-color);\n",
              "    fill: var(--disabled-fill-color);\n",
              "    box-shadow: none;\n",
              "  }\n",
              "\n",
              "  .colab-df-spinner {\n",
              "    border: 2px solid var(--fill-color);\n",
              "    border-color: transparent;\n",
              "    border-bottom-color: var(--fill-color);\n",
              "    animation:\n",
              "      spin 1s steps(1) infinite;\n",
              "  }\n",
              "\n",
              "  @keyframes spin {\n",
              "    0% {\n",
              "      border-color: transparent;\n",
              "      border-bottom-color: var(--fill-color);\n",
              "      border-left-color: var(--fill-color);\n",
              "    }\n",
              "    20% {\n",
              "      border-color: transparent;\n",
              "      border-left-color: var(--fill-color);\n",
              "      border-top-color: var(--fill-color);\n",
              "    }\n",
              "    30% {\n",
              "      border-color: transparent;\n",
              "      border-left-color: var(--fill-color);\n",
              "      border-top-color: var(--fill-color);\n",
              "      border-right-color: var(--fill-color);\n",
              "    }\n",
              "    40% {\n",
              "      border-color: transparent;\n",
              "      border-right-color: var(--fill-color);\n",
              "      border-top-color: var(--fill-color);\n",
              "    }\n",
              "    60% {\n",
              "      border-color: transparent;\n",
              "      border-right-color: var(--fill-color);\n",
              "    }\n",
              "    80% {\n",
              "      border-color: transparent;\n",
              "      border-right-color: var(--fill-color);\n",
              "      border-bottom-color: var(--fill-color);\n",
              "    }\n",
              "    90% {\n",
              "      border-color: transparent;\n",
              "      border-bottom-color: var(--fill-color);\n",
              "    }\n",
              "  }\n",
              "</style>\n",
              "\n",
              "  <script>\n",
              "    async function quickchart(key) {\n",
              "      const quickchartButtonEl =\n",
              "        document.querySelector('#' + key + ' button');\n",
              "      quickchartButtonEl.disabled = true;  // To prevent multiple clicks.\n",
              "      quickchartButtonEl.classList.add('colab-df-spinner');\n",
              "      try {\n",
              "        const charts = await google.colab.kernel.invokeFunction(\n",
              "            'suggestCharts', [key], {});\n",
              "      } catch (error) {\n",
              "        console.error('Error during call to suggestCharts:', error);\n",
              "      }\n",
              "      quickchartButtonEl.classList.remove('colab-df-spinner');\n",
              "      quickchartButtonEl.classList.add('colab-df-quickchart-complete');\n",
              "    }\n",
              "    (() => {\n",
              "      let quickchartButtonEl =\n",
              "        document.querySelector('#df-f526ee55-e73b-4345-9660-35edad439980 button');\n",
              "      quickchartButtonEl.style.display =\n",
              "        google.colab.kernel.accessAllowed ? 'block' : 'none';\n",
              "    })();\n",
              "  </script>\n",
              "</div>\n",
              "    </div>\n",
              "  </div>\n"
            ]
          },
          "metadata": {},
          "execution_count": 71
        }
      ]
    },
    {
      "cell_type": "code",
      "source": [
        "def text_clean(author):\n",
        "    res = str(author).lower()\n",
        "    return(res.replace(' ',''))\n",
        "\n",
        "books_dataset['authors'] = books_dataset['authors'].apply(text_clean)"
      ],
      "metadata": {
        "colab": {
          "base_uri": "https://localhost:8080/"
        },
        "id": "q-8TMwiEqtMV",
        "outputId": "b08a1640-7386-49da-ffec-d4b05fa38140"
      },
      "execution_count": null,
      "outputs": [
        {
          "output_type": "stream",
          "name": "stderr",
          "text": [
            "<ipython-input-68-2e6d22ad24a4>:5: SettingWithCopyWarning: \n",
            "A value is trying to be set on a copy of a slice from a DataFrame.\n",
            "Try using .loc[row_indexer,col_indexer] = value instead\n",
            "\n",
            "See the caveats in the documentation: https://pandas.pydata.org/pandas-docs/stable/user_guide/indexing.html#returning-a-view-versus-a-copy\n",
            "  books_dataset['authors'] = books_dataset['authors'].apply(text_clean)\n"
          ]
        }
      ]
    },
    {
      "cell_type": "code",
      "source": [
        "# convert the publisher and book-title to lowercase\n",
        "\n",
        "books_dataset['title'] = books_dataset['title'].str.lower()\n",
        "books_dataset['publisher'] = books_dataset['publisher'].str.lower()\n"
      ],
      "metadata": {
        "colab": {
          "base_uri": "https://localhost:8080/"
        },
        "id": "E4E6uyQtreLo",
        "outputId": "814b1598-24b4-48d4-cfb4-b750d3d653db"
      },
      "execution_count": null,
      "outputs": [
        {
          "output_type": "stream",
          "name": "stderr",
          "text": [
            "<ipython-input-70-bd09de35cedf>:3: SettingWithCopyWarning: \n",
            "A value is trying to be set on a copy of a slice from a DataFrame.\n",
            "Try using .loc[row_indexer,col_indexer] = value instead\n",
            "\n",
            "See the caveats in the documentation: https://pandas.pydata.org/pandas-docs/stable/user_guide/indexing.html#returning-a-view-versus-a-copy\n",
            "  books_dataset['title'] = books_dataset['title'].str.lower()\n",
            "<ipython-input-70-bd09de35cedf>:4: SettingWithCopyWarning: \n",
            "A value is trying to be set on a copy of a slice from a DataFrame.\n",
            "Try using .loc[row_indexer,col_indexer] = value instead\n",
            "\n",
            "See the caveats in the documentation: https://pandas.pydata.org/pandas-docs/stable/user_guide/indexing.html#returning-a-view-versus-a-copy\n",
            "  books_dataset['publisher'] = books_dataset['publisher'].str.lower()\n"
          ]
        }
      ]
    },
    {
      "cell_type": "code",
      "source": [
        "df1 = books_dataset[['authors','title','publisher']]\n",
        "\n",
        "df1['data'] = df1[df1.columns[1:]].apply(\n",
        "    lambda x: ' '.join(x.dropna().astype(str)),\n",
        "    axis=1\n",
        ")\n",
        "\n",
        "print(df1['data'].head())"
      ],
      "metadata": {
        "colab": {
          "base_uri": "https://localhost:8080/"
        },
        "id": "A-h--Tx_r5e5",
        "outputId": "ca86a4a5-53de-41bb-d700-0b0fc2fde73e"
      },
      "execution_count": null,
      "outputs": [
        {
          "output_type": "stream",
          "name": "stdout",
          "text": [
            "0    harry potter and the half-blood prince (harry ...\n",
            "1    harry potter and the order of the phoenix (har...\n",
            "2    harry potter and the chamber of secrets (harry...\n",
            "3    harry potter and the prisoner of azkaban (harr...\n",
            "4    harry potter boxed set  books 1-5 (harry potte...\n",
            "Name: data, dtype: object\n"
          ]
        },
        {
          "output_type": "stream",
          "name": "stderr",
          "text": [
            "<ipython-input-72-8084299f261a>:3: SettingWithCopyWarning: \n",
            "A value is trying to be set on a copy of a slice from a DataFrame.\n",
            "Try using .loc[row_indexer,col_indexer] = value instead\n",
            "\n",
            "See the caveats in the documentation: https://pandas.pydata.org/pandas-docs/stable/user_guide/indexing.html#returning-a-view-versus-a-copy\n",
            "  df1['data'] = df1[df1.columns[1:]].apply(\n"
          ]
        }
      ]
    },
    {
      "cell_type": "code",
      "source": [
        "# load the libraries for machine learning\n",
        "from sklearn.feature_extraction.text import CountVectorizer\n",
        "from sklearn.metrics.pairwise import cosine_similarity"
      ],
      "metadata": {
        "colab": {
          "base_uri": "https://localhost:8080/"
        },
        "id": "U6wgj-BYtBm9",
        "outputId": "eecc8835-0a7b-47eb-a97b-7d084d810b8e"
      },
      "execution_count": null,
      "outputs": [
        {
          "output_type": "stream",
          "name": "stdout",
          "text": [
            "[[1.         0.79115481 0.75907212 ... 0.09759001 0.         0.        ]\n",
            " [0.79115481 1.         0.81892302 ... 0.17817416 0.         0.        ]\n",
            " [0.75907212 0.81892302 1.         ... 0.10101525 0.         0.        ]\n",
            " ...\n",
            " [0.09759001 0.17817416 0.10101525 ... 1.         0.         0.        ]\n",
            " [0.         0.         0.         ... 0.         1.         0.        ]\n",
            " [0.         0.         0.         ... 0.         0.         1.        ]]\n"
          ]
        }
      ]
    },
    {
      "cell_type": "code",
      "source": [
        "vectorizer = CountVectorizer()\n",
        "vectorized = vectorizer.fit_transform(df1['data'])\n",
        "similarities = cosine_similarity(vectorized)\n",
        "print(similarities)"
      ],
      "metadata": {
        "colab": {
          "base_uri": "https://localhost:8080/"
        },
        "id": "Apv5CAglvjRp",
        "outputId": "38826378-bafa-4888-9c07-f78114b77e1a"
      },
      "execution_count": null,
      "outputs": [
        {
          "output_type": "stream",
          "name": "stdout",
          "text": [
            "[[1.         0.79115481 0.75907212 ... 0.09759001 0.         0.        ]\n",
            " [0.79115481 1.         0.81892302 ... 0.17817416 0.         0.        ]\n",
            " [0.75907212 0.81892302 1.         ... 0.10101525 0.         0.        ]\n",
            " ...\n",
            " [0.09759001 0.17817416 0.10101525 ... 1.         0.         0.        ]\n",
            " [0.         0.         0.         ... 0.         1.         0.        ]\n",
            " [0.         0.         0.         ... 0.         0.         1.        ]]\n"
          ]
        }
      ]
    },
    {
      "cell_type": "code",
      "source": [
        "vect_data =  pd.DataFrame(similarities, columns=df1['title'], index=df1['title']).reset_index()\n",
        "vect_data.head()"
      ],
      "metadata": {
        "colab": {
          "base_uri": "https://localhost:8080/",
          "height": 915
        },
        "id": "pm6AgWHgvl4h",
        "outputId": "2be6cebb-ee2b-4eab-e42f-a76d2c4b622b"
      },
      "execution_count": null,
      "outputs": [
        {
          "output_type": "execute_result",
          "data": {
            "text/plain": [
              "title                                              title  \\\n",
              "0      harry potter and the half-blood prince (harry ...   \n",
              "1      harry potter and the order of the phoenix (har...   \n",
              "2      harry potter and the chamber of secrets (harry...   \n",
              "3      harry potter and the prisoner of azkaban (harr...   \n",
              "4      harry potter boxed set  books 1-5 (harry potte...   \n",
              "\n",
              "title  harry potter and the half-blood prince (harry potter  #6)  \\\n",
              "0                                               1.000000           \n",
              "1                                               0.791155           \n",
              "2                                               0.759072           \n",
              "3                                               0.800000           \n",
              "4                                               0.670820           \n",
              "\n",
              "title  harry potter and the order of the phoenix (harry potter  #5)  \\\n",
              "0                                               0.791155              \n",
              "1                                               1.000000              \n",
              "2                                               0.818923              \n",
              "3                                               0.852013              \n",
              "4                                               0.612372              \n",
              "\n",
              "title  harry potter and the chamber of secrets (harry potter  #2)  \\\n",
              "0                                               0.759072            \n",
              "1                                               0.818923            \n",
              "2                                               1.000000            \n",
              "3                                               0.828079            \n",
              "4                                               0.694365            \n",
              "\n",
              "title  harry potter and the prisoner of azkaban (harry potter  #3)  \\\n",
              "0                                               0.800000             \n",
              "1                                               0.852013             \n",
              "2                                               0.828079             \n",
              "3                                               1.000000             \n",
              "4                                               0.670820             \n",
              "\n",
              "title  harry potter boxed set  books 1-5 (harry potter  #1-5)  \\\n",
              "0                                               0.670820        \n",
              "1                                               0.612372        \n",
              "2                                               0.694365        \n",
              "3                                               0.670820        \n",
              "4                                               1.000000        \n",
              "\n",
              "title  unauthorized harry potter book seven news: \"half-blood prince\" analysis and speculation  \\\n",
              "0                                               0.552052                                         \n",
              "1                                               0.314970                                         \n",
              "2                                               0.357143                                         \n",
              "3                                               0.345033                                         \n",
              "4                                               0.385758                                         \n",
              "\n",
              "title  harry potter collection (harry potter  #1-6)  \\\n",
              "0                                          0.734847   \n",
              "1                                          0.670820   \n",
              "2                                          0.760639   \n",
              "3                                          0.734847   \n",
              "4                                          0.821584   \n",
              "\n",
              "title  the ultimate hitchhiker's guide: five complete novels and one story (hitchhiker's guide to the galaxy  #1-5)  \\\n",
              "0                                               0.161515                                                              \n",
              "1                                               0.245737                                                              \n",
              "2                                               0.167183                                                              \n",
              "3                                               0.161515                                                              \n",
              "4                                               0.060193                                                              \n",
              "\n",
              "title  the ultimate hitchhiker's guide to the galaxy (hitchhiker's guide to the galaxy  #1-5)  \\\n",
              "0                                               0.143839                                        \n",
              "1                                               0.262613                                        \n",
              "2                                               0.148888                                        \n",
              "3                                               0.143839                                        \n",
              "4                                               0.053606                                        \n",
              "\n",
              "title  ...  o cavalo e o seu rapaz (as crónicas de nárnia  #3)  \\\n",
              "0      ...                                                0.0    \n",
              "1      ...                                                0.0    \n",
              "2      ...                                                0.0    \n",
              "3      ...                                                0.0    \n",
              "4      ...                                                0.0    \n",
              "\n",
              "title  o sobrinho do mágico (as crónicas de nárnia  #1)  \\\n",
              "0                                                   0.0   \n",
              "1                                                   0.0   \n",
              "2                                                   0.0   \n",
              "3                                                   0.0   \n",
              "4                                                   0.0   \n",
              "\n",
              "title  a viagem do caminheiro da alvorada (as crónicas de nárnia  #5)  \\\n",
              "0                                                    0.0                \n",
              "1                                                    0.0                \n",
              "2                                                    0.0                \n",
              "3                                                    0.0                \n",
              "4                                                    0.0                \n",
              "\n",
              "title  o príncipe caspian (as crónicas de nárnia  #4)  whores for gloria  \\\n",
              "0                                                 0.0           0.000000   \n",
              "1                                                 0.0           0.000000   \n",
              "2                                                 0.0           0.000000   \n",
              "3                                                 0.0           0.000000   \n",
              "4                                                 0.0           0.129099   \n",
              "\n",
              "title  expelled from eden: a william t. vollmann reader  \\\n",
              "0                                                   0.0   \n",
              "1                                                   0.0   \n",
              "2                                                   0.0   \n",
              "3                                                   0.0   \n",
              "4                                                   0.0   \n",
              "\n",
              "title  you bright and risen angels  the ice-shirt (seven dreams #1)  \\\n",
              "0                         0.097590                         0.097590   \n",
              "1                         0.089087                         0.178174   \n",
              "2                         0.101015                         0.101015   \n",
              "3                         0.097590                         0.097590   \n",
              "4                         0.109109                         0.109109   \n",
              "\n",
              "title  poor people  las aventuras de tom sawyer  \n",
              "0              0.0                          0.0  \n",
              "1              0.0                          0.0  \n",
              "2              0.0                          0.0  \n",
              "3              0.0                          0.0  \n",
              "4              0.0                          0.0  \n",
              "\n",
              "[5 rows x 10349 columns]"
            ],
            "text/html": [
              "\n",
              "  <div id=\"df-8d459eba-0a99-4077-9871-a83e925b69c8\" class=\"colab-df-container\">\n",
              "    <div>\n",
              "<style scoped>\n",
              "    .dataframe tbody tr th:only-of-type {\n",
              "        vertical-align: middle;\n",
              "    }\n",
              "\n",
              "    .dataframe tbody tr th {\n",
              "        vertical-align: top;\n",
              "    }\n",
              "\n",
              "    .dataframe thead th {\n",
              "        text-align: right;\n",
              "    }\n",
              "</style>\n",
              "<table border=\"1\" class=\"dataframe\">\n",
              "  <thead>\n",
              "    <tr style=\"text-align: right;\">\n",
              "      <th>title</th>\n",
              "      <th>title</th>\n",
              "      <th>harry potter and the half-blood prince (harry potter  #6)</th>\n",
              "      <th>harry potter and the order of the phoenix (harry potter  #5)</th>\n",
              "      <th>harry potter and the chamber of secrets (harry potter  #2)</th>\n",
              "      <th>harry potter and the prisoner of azkaban (harry potter  #3)</th>\n",
              "      <th>harry potter boxed set  books 1-5 (harry potter  #1-5)</th>\n",
              "      <th>unauthorized harry potter book seven news: \"half-blood prince\" analysis and speculation</th>\n",
              "      <th>harry potter collection (harry potter  #1-6)</th>\n",
              "      <th>the ultimate hitchhiker's guide: five complete novels and one story (hitchhiker's guide to the galaxy  #1-5)</th>\n",
              "      <th>the ultimate hitchhiker's guide to the galaxy (hitchhiker's guide to the galaxy  #1-5)</th>\n",
              "      <th>...</th>\n",
              "      <th>o cavalo e o seu rapaz (as crónicas de nárnia  #3)</th>\n",
              "      <th>o sobrinho do mágico (as crónicas de nárnia  #1)</th>\n",
              "      <th>a viagem do caminheiro da alvorada (as crónicas de nárnia  #5)</th>\n",
              "      <th>o príncipe caspian (as crónicas de nárnia  #4)</th>\n",
              "      <th>whores for gloria</th>\n",
              "      <th>expelled from eden: a william t. vollmann reader</th>\n",
              "      <th>you bright and risen angels</th>\n",
              "      <th>the ice-shirt (seven dreams #1)</th>\n",
              "      <th>poor people</th>\n",
              "      <th>las aventuras de tom sawyer</th>\n",
              "    </tr>\n",
              "  </thead>\n",
              "  <tbody>\n",
              "    <tr>\n",
              "      <th>0</th>\n",
              "      <td>harry potter and the half-blood prince (harry ...</td>\n",
              "      <td>1.000000</td>\n",
              "      <td>0.791155</td>\n",
              "      <td>0.759072</td>\n",
              "      <td>0.800000</td>\n",
              "      <td>0.670820</td>\n",
              "      <td>0.552052</td>\n",
              "      <td>0.734847</td>\n",
              "      <td>0.161515</td>\n",
              "      <td>0.143839</td>\n",
              "      <td>...</td>\n",
              "      <td>0.0</td>\n",
              "      <td>0.0</td>\n",
              "      <td>0.0</td>\n",
              "      <td>0.0</td>\n",
              "      <td>0.000000</td>\n",
              "      <td>0.0</td>\n",
              "      <td>0.097590</td>\n",
              "      <td>0.097590</td>\n",
              "      <td>0.0</td>\n",
              "      <td>0.0</td>\n",
              "    </tr>\n",
              "    <tr>\n",
              "      <th>1</th>\n",
              "      <td>harry potter and the order of the phoenix (har...</td>\n",
              "      <td>0.791155</td>\n",
              "      <td>1.000000</td>\n",
              "      <td>0.818923</td>\n",
              "      <td>0.852013</td>\n",
              "      <td>0.612372</td>\n",
              "      <td>0.314970</td>\n",
              "      <td>0.670820</td>\n",
              "      <td>0.245737</td>\n",
              "      <td>0.262613</td>\n",
              "      <td>...</td>\n",
              "      <td>0.0</td>\n",
              "      <td>0.0</td>\n",
              "      <td>0.0</td>\n",
              "      <td>0.0</td>\n",
              "      <td>0.000000</td>\n",
              "      <td>0.0</td>\n",
              "      <td>0.089087</td>\n",
              "      <td>0.178174</td>\n",
              "      <td>0.0</td>\n",
              "      <td>0.0</td>\n",
              "    </tr>\n",
              "    <tr>\n",
              "      <th>2</th>\n",
              "      <td>harry potter and the chamber of secrets (harry...</td>\n",
              "      <td>0.759072</td>\n",
              "      <td>0.818923</td>\n",
              "      <td>1.000000</td>\n",
              "      <td>0.828079</td>\n",
              "      <td>0.694365</td>\n",
              "      <td>0.357143</td>\n",
              "      <td>0.760639</td>\n",
              "      <td>0.167183</td>\n",
              "      <td>0.148888</td>\n",
              "      <td>...</td>\n",
              "      <td>0.0</td>\n",
              "      <td>0.0</td>\n",
              "      <td>0.0</td>\n",
              "      <td>0.0</td>\n",
              "      <td>0.000000</td>\n",
              "      <td>0.0</td>\n",
              "      <td>0.101015</td>\n",
              "      <td>0.101015</td>\n",
              "      <td>0.0</td>\n",
              "      <td>0.0</td>\n",
              "    </tr>\n",
              "    <tr>\n",
              "      <th>3</th>\n",
              "      <td>harry potter and the prisoner of azkaban (harr...</td>\n",
              "      <td>0.800000</td>\n",
              "      <td>0.852013</td>\n",
              "      <td>0.828079</td>\n",
              "      <td>1.000000</td>\n",
              "      <td>0.670820</td>\n",
              "      <td>0.345033</td>\n",
              "      <td>0.734847</td>\n",
              "      <td>0.161515</td>\n",
              "      <td>0.143839</td>\n",
              "      <td>...</td>\n",
              "      <td>0.0</td>\n",
              "      <td>0.0</td>\n",
              "      <td>0.0</td>\n",
              "      <td>0.0</td>\n",
              "      <td>0.000000</td>\n",
              "      <td>0.0</td>\n",
              "      <td>0.097590</td>\n",
              "      <td>0.097590</td>\n",
              "      <td>0.0</td>\n",
              "      <td>0.0</td>\n",
              "    </tr>\n",
              "    <tr>\n",
              "      <th>4</th>\n",
              "      <td>harry potter boxed set  books 1-5 (harry potte...</td>\n",
              "      <td>0.670820</td>\n",
              "      <td>0.612372</td>\n",
              "      <td>0.694365</td>\n",
              "      <td>0.670820</td>\n",
              "      <td>1.000000</td>\n",
              "      <td>0.385758</td>\n",
              "      <td>0.821584</td>\n",
              "      <td>0.060193</td>\n",
              "      <td>0.053606</td>\n",
              "      <td>...</td>\n",
              "      <td>0.0</td>\n",
              "      <td>0.0</td>\n",
              "      <td>0.0</td>\n",
              "      <td>0.0</td>\n",
              "      <td>0.129099</td>\n",
              "      <td>0.0</td>\n",
              "      <td>0.109109</td>\n",
              "      <td>0.109109</td>\n",
              "      <td>0.0</td>\n",
              "      <td>0.0</td>\n",
              "    </tr>\n",
              "  </tbody>\n",
              "</table>\n",
              "<p>5 rows × 10349 columns</p>\n",
              "</div>\n",
              "    <div class=\"colab-df-buttons\">\n",
              "\n",
              "  <div class=\"colab-df-container\">\n",
              "    <button class=\"colab-df-convert\" onclick=\"convertToInteractive('df-8d459eba-0a99-4077-9871-a83e925b69c8')\"\n",
              "            title=\"Convert this dataframe to an interactive table.\"\n",
              "            style=\"display:none;\">\n",
              "\n",
              "  <svg xmlns=\"http://www.w3.org/2000/svg\" height=\"24px\" viewBox=\"0 -960 960 960\">\n",
              "    <path d=\"M120-120v-720h720v720H120Zm60-500h600v-160H180v160Zm220 220h160v-160H400v160Zm0 220h160v-160H400v160ZM180-400h160v-160H180v160Zm440 0h160v-160H620v160ZM180-180h160v-160H180v160Zm440 0h160v-160H620v160Z\"/>\n",
              "  </svg>\n",
              "    </button>\n",
              "\n",
              "  <style>\n",
              "    .colab-df-container {\n",
              "      display:flex;\n",
              "      gap: 12px;\n",
              "    }\n",
              "\n",
              "    .colab-df-convert {\n",
              "      background-color: #E8F0FE;\n",
              "      border: none;\n",
              "      border-radius: 50%;\n",
              "      cursor: pointer;\n",
              "      display: none;\n",
              "      fill: #1967D2;\n",
              "      height: 32px;\n",
              "      padding: 0 0 0 0;\n",
              "      width: 32px;\n",
              "    }\n",
              "\n",
              "    .colab-df-convert:hover {\n",
              "      background-color: #E2EBFA;\n",
              "      box-shadow: 0px 1px 2px rgba(60, 64, 67, 0.3), 0px 1px 3px 1px rgba(60, 64, 67, 0.15);\n",
              "      fill: #174EA6;\n",
              "    }\n",
              "\n",
              "    .colab-df-buttons div {\n",
              "      margin-bottom: 4px;\n",
              "    }\n",
              "\n",
              "    [theme=dark] .colab-df-convert {\n",
              "      background-color: #3B4455;\n",
              "      fill: #D2E3FC;\n",
              "    }\n",
              "\n",
              "    [theme=dark] .colab-df-convert:hover {\n",
              "      background-color: #434B5C;\n",
              "      box-shadow: 0px 1px 3px 1px rgba(0, 0, 0, 0.15);\n",
              "      filter: drop-shadow(0px 1px 2px rgba(0, 0, 0, 0.3));\n",
              "      fill: #FFFFFF;\n",
              "    }\n",
              "  </style>\n",
              "\n",
              "    <script>\n",
              "      const buttonEl =\n",
              "        document.querySelector('#df-8d459eba-0a99-4077-9871-a83e925b69c8 button.colab-df-convert');\n",
              "      buttonEl.style.display =\n",
              "        google.colab.kernel.accessAllowed ? 'block' : 'none';\n",
              "\n",
              "      async function convertToInteractive(key) {\n",
              "        const element = document.querySelector('#df-8d459eba-0a99-4077-9871-a83e925b69c8');\n",
              "        const dataTable =\n",
              "          await google.colab.kernel.invokeFunction('convertToInteractive',\n",
              "                                                    [key], {});\n",
              "        if (!dataTable) return;\n",
              "\n",
              "        const docLinkHtml = 'Like what you see? Visit the ' +\n",
              "          '<a target=\"_blank\" href=https://colab.research.google.com/notebooks/data_table.ipynb>data table notebook</a>'\n",
              "          + ' to learn more about interactive tables.';\n",
              "        element.innerHTML = '';\n",
              "        dataTable['output_type'] = 'display_data';\n",
              "        await google.colab.output.renderOutput(dataTable, element);\n",
              "        const docLink = document.createElement('div');\n",
              "        docLink.innerHTML = docLinkHtml;\n",
              "        element.appendChild(docLink);\n",
              "      }\n",
              "    </script>\n",
              "  </div>\n",
              "\n",
              "\n",
              "<div id=\"df-10c9b585-fff1-459b-b8d7-523f5fb1f389\">\n",
              "  <button class=\"colab-df-quickchart\" onclick=\"quickchart('df-10c9b585-fff1-459b-b8d7-523f5fb1f389')\"\n",
              "            title=\"Suggest charts.\"\n",
              "            style=\"display:none;\">\n",
              "\n",
              "<svg xmlns=\"http://www.w3.org/2000/svg\" height=\"24px\"viewBox=\"0 0 24 24\"\n",
              "     width=\"24px\">\n",
              "    <g>\n",
              "        <path d=\"M19 3H5c-1.1 0-2 .9-2 2v14c0 1.1.9 2 2 2h14c1.1 0 2-.9 2-2V5c0-1.1-.9-2-2-2zM9 17H7v-7h2v7zm4 0h-2V7h2v10zm4 0h-2v-4h2v4z\"/>\n",
              "    </g>\n",
              "</svg>\n",
              "  </button>\n",
              "\n",
              "<style>\n",
              "  .colab-df-quickchart {\n",
              "      --bg-color: #E8F0FE;\n",
              "      --fill-color: #1967D2;\n",
              "      --hover-bg-color: #E2EBFA;\n",
              "      --hover-fill-color: #174EA6;\n",
              "      --disabled-fill-color: #AAA;\n",
              "      --disabled-bg-color: #DDD;\n",
              "  }\n",
              "\n",
              "  [theme=dark] .colab-df-quickchart {\n",
              "      --bg-color: #3B4455;\n",
              "      --fill-color: #D2E3FC;\n",
              "      --hover-bg-color: #434B5C;\n",
              "      --hover-fill-color: #FFFFFF;\n",
              "      --disabled-bg-color: #3B4455;\n",
              "      --disabled-fill-color: #666;\n",
              "  }\n",
              "\n",
              "  .colab-df-quickchart {\n",
              "    background-color: var(--bg-color);\n",
              "    border: none;\n",
              "    border-radius: 50%;\n",
              "    cursor: pointer;\n",
              "    display: none;\n",
              "    fill: var(--fill-color);\n",
              "    height: 32px;\n",
              "    padding: 0;\n",
              "    width: 32px;\n",
              "  }\n",
              "\n",
              "  .colab-df-quickchart:hover {\n",
              "    background-color: var(--hover-bg-color);\n",
              "    box-shadow: 0 1px 2px rgba(60, 64, 67, 0.3), 0 1px 3px 1px rgba(60, 64, 67, 0.15);\n",
              "    fill: var(--button-hover-fill-color);\n",
              "  }\n",
              "\n",
              "  .colab-df-quickchart-complete:disabled,\n",
              "  .colab-df-quickchart-complete:disabled:hover {\n",
              "    background-color: var(--disabled-bg-color);\n",
              "    fill: var(--disabled-fill-color);\n",
              "    box-shadow: none;\n",
              "  }\n",
              "\n",
              "  .colab-df-spinner {\n",
              "    border: 2px solid var(--fill-color);\n",
              "    border-color: transparent;\n",
              "    border-bottom-color: var(--fill-color);\n",
              "    animation:\n",
              "      spin 1s steps(1) infinite;\n",
              "  }\n",
              "\n",
              "  @keyframes spin {\n",
              "    0% {\n",
              "      border-color: transparent;\n",
              "      border-bottom-color: var(--fill-color);\n",
              "      border-left-color: var(--fill-color);\n",
              "    }\n",
              "    20% {\n",
              "      border-color: transparent;\n",
              "      border-left-color: var(--fill-color);\n",
              "      border-top-color: var(--fill-color);\n",
              "    }\n",
              "    30% {\n",
              "      border-color: transparent;\n",
              "      border-left-color: var(--fill-color);\n",
              "      border-top-color: var(--fill-color);\n",
              "      border-right-color: var(--fill-color);\n",
              "    }\n",
              "    40% {\n",
              "      border-color: transparent;\n",
              "      border-right-color: var(--fill-color);\n",
              "      border-top-color: var(--fill-color);\n",
              "    }\n",
              "    60% {\n",
              "      border-color: transparent;\n",
              "      border-right-color: var(--fill-color);\n",
              "    }\n",
              "    80% {\n",
              "      border-color: transparent;\n",
              "      border-right-color: var(--fill-color);\n",
              "      border-bottom-color: var(--fill-color);\n",
              "    }\n",
              "    90% {\n",
              "      border-color: transparent;\n",
              "      border-bottom-color: var(--fill-color);\n",
              "    }\n",
              "  }\n",
              "</style>\n",
              "\n",
              "  <script>\n",
              "    async function quickchart(key) {\n",
              "      const quickchartButtonEl =\n",
              "        document.querySelector('#' + key + ' button');\n",
              "      quickchartButtonEl.disabled = true;  // To prevent multiple clicks.\n",
              "      quickchartButtonEl.classList.add('colab-df-spinner');\n",
              "      try {\n",
              "        const charts = await google.colab.kernel.invokeFunction(\n",
              "            'suggestCharts', [key], {});\n",
              "      } catch (error) {\n",
              "        console.error('Error during call to suggestCharts:', error);\n",
              "      }\n",
              "      quickchartButtonEl.classList.remove('colab-df-spinner');\n",
              "      quickchartButtonEl.classList.add('colab-df-quickchart-complete');\n",
              "    }\n",
              "    (() => {\n",
              "      let quickchartButtonEl =\n",
              "        document.querySelector('#df-10c9b585-fff1-459b-b8d7-523f5fb1f389 button');\n",
              "      quickchartButtonEl.style.display =\n",
              "        google.colab.kernel.accessAllowed ? 'block' : 'none';\n",
              "    })();\n",
              "  </script>\n",
              "</div>\n",
              "    </div>\n",
              "  </div>\n"
            ]
          },
          "metadata": {},
          "execution_count": 77
        }
      ]
    },
    {
      "cell_type": "code",
      "source": [
        "x = books_dataset[['title']].iloc[0]\n",
        "vect_data.columns"
      ],
      "metadata": {
        "colab": {
          "base_uri": "https://localhost:8080/"
        },
        "id": "U7wmhQTAw_p2",
        "outputId": "153baedf-edda-4f72-8095-42baeae8bba3"
      },
      "execution_count": null,
      "outputs": [
        {
          "output_type": "execute_result",
          "data": {
            "text/plain": [
              "Index(['title', 'harry potter and the half-blood prince (harry potter  #6)',\n",
              "       'harry potter and the order of the phoenix (harry potter  #5)',\n",
              "       'harry potter and the chamber of secrets (harry potter  #2)',\n",
              "       'harry potter and the prisoner of azkaban (harry potter  #3)',\n",
              "       'harry potter boxed set  books 1-5 (harry potter  #1-5)',\n",
              "       'unauthorized harry potter book seven news: \"half-blood prince\" analysis and speculation',\n",
              "       'harry potter collection (harry potter  #1-6)',\n",
              "       'the ultimate hitchhiker's guide: five complete novels and one story (hitchhiker's guide to the galaxy  #1-5)',\n",
              "       'the ultimate hitchhiker's guide to the galaxy (hitchhiker's guide to the galaxy  #1-5)',\n",
              "       ...\n",
              "       'o cavalo e o seu rapaz (as crónicas de nárnia  #3)',\n",
              "       'o sobrinho do mágico (as crónicas de nárnia  #1)',\n",
              "       'a viagem do caminheiro da alvorada (as crónicas de nárnia  #5)',\n",
              "       'o príncipe caspian (as crónicas de nárnia  #4)', 'whores for gloria',\n",
              "       'expelled from eden: a william t. vollmann reader',\n",
              "       'you bright and risen angels', 'the ice-shirt (seven dreams #1)',\n",
              "       'poor people', 'las aventuras de tom sawyer'],\n",
              "      dtype='object', name='title', length=10349)"
            ]
          },
          "metadata": {},
          "execution_count": 90
        }
      ]
    },
    {
      "cell_type": "code",
      "source": [
        "input_book = 'harry potter and the half-blood prince (harry potter  #6)'\n",
        "recommendations = pd.DataFrame(vect_data.nlargest(5,input_book)['title'])\n",
        "recommendations = recommendations[recommendations['title']!=input_book]\n",
        "print(recommendations)"
      ],
      "metadata": {
        "colab": {
          "base_uri": "https://localhost:8080/"
        },
        "id": "N6oX7nbuv4pb",
        "outputId": "c55df19e-be03-41b3-ac9d-0be0e7510ff4"
      },
      "execution_count": null,
      "outputs": [
        {
          "output_type": "stream",
          "name": "stdout",
          "text": [
            "                                               title\n",
            "3  harry potter and the prisoner of azkaban (harr...\n",
            "1  harry potter and the order of the phoenix (har...\n",
            "2  harry potter and the chamber of secrets (harry...\n",
            "6       harry potter collection (harry potter  #1-6)\n"
          ]
        }
      ]
    },
    {
      "cell_type": "code",
      "source": [
        "recommender_df = books_dataset.merge(vect_data, on='title', how='left')\n",
        "recommender_df.head()"
      ],
      "metadata": {
        "colab": {
          "base_uri": "https://localhost:8080/",
          "height": 915
        },
        "id": "ybmfLDwd1-fc",
        "outputId": "46c1199c-a959-4f2f-b596-bdff58a525da"
      },
      "execution_count": null,
      "outputs": [
        {
          "output_type": "execute_result",
          "data": {
            "text/plain": [
              "   bookID                                              title  \\\n",
              "0       1  harry potter and the half-blood prince (harry ...   \n",
              "1       2  harry potter and the order of the phoenix (har...   \n",
              "2       4  harry potter and the chamber of secrets (harry...   \n",
              "3       5  harry potter and the prisoner of azkaban (harr...   \n",
              "4       8  harry potter boxed set  books 1-5 (harry potte...   \n",
              "\n",
              "                    authors  average_rating        isbn        isbn13  \\\n",
              "0  j.k.rowling/marygrandpré            4.57  0439785960  9.780440e+12   \n",
              "1  j.k.rowling/marygrandpré            4.49  0439358078  9.780439e+12   \n",
              "2               j.k.rowling            4.42  0439554896  9.780440e+12   \n",
              "3  j.k.rowling/marygrandpré            4.56  043965548X  9.780440e+12   \n",
              "4  j.k.rowling/marygrandpré            4.38  0439682584  9.780440e+12   \n",
              "\n",
              "  language_code  num_pages  ratings_count  text_reviews_count  ...  \\\n",
              "0           eng        652        61114.0              2158.9  ...   \n",
              "1           eng        752        61114.0              2158.9  ...   \n",
              "2           eng        352         6333.0               244.0  ...   \n",
              "3           eng        435        61114.0              2158.9  ...   \n",
              "4           eng        752        61114.0               164.0  ...   \n",
              "\n",
              "  o cavalo e o seu rapaz (as crónicas de nárnia  #3)  \\\n",
              "0                                                0.0   \n",
              "1                                                0.0   \n",
              "2                                                0.0   \n",
              "3                                                0.0   \n",
              "4                                                0.0   \n",
              "\n",
              "  o sobrinho do mágico (as crónicas de nárnia  #1)  \\\n",
              "0                                              0.0   \n",
              "1                                              0.0   \n",
              "2                                              0.0   \n",
              "3                                              0.0   \n",
              "4                                              0.0   \n",
              "\n",
              "   a viagem do caminheiro da alvorada (as crónicas de nárnia  #5)  \\\n",
              "0                                                0.0                \n",
              "1                                                0.0                \n",
              "2                                                0.0                \n",
              "3                                                0.0                \n",
              "4                                                0.0                \n",
              "\n",
              "   o príncipe caspian (as crónicas de nárnia  #4)  whores for gloria  \\\n",
              "0                                             0.0           0.000000   \n",
              "1                                             0.0           0.000000   \n",
              "2                                             0.0           0.000000   \n",
              "3                                             0.0           0.000000   \n",
              "4                                             0.0           0.129099   \n",
              "\n",
              "   expelled from eden: a william t. vollmann reader  \\\n",
              "0                                               0.0   \n",
              "1                                               0.0   \n",
              "2                                               0.0   \n",
              "3                                               0.0   \n",
              "4                                               0.0   \n",
              "\n",
              "   you bright and risen angels  the ice-shirt (seven dreams #1)  poor people  \\\n",
              "0                     0.097590                         0.097590          0.0   \n",
              "1                     0.089087                         0.178174          0.0   \n",
              "2                     0.101015                         0.101015          0.0   \n",
              "3                     0.097590                         0.097590          0.0   \n",
              "4                     0.109109                         0.109109          0.0   \n",
              "\n",
              "   las aventuras de tom sawyer  \n",
              "0                          0.0  \n",
              "1                          0.0  \n",
              "2                          0.0  \n",
              "3                          0.0  \n",
              "4                          0.0  \n",
              "\n",
              "[5 rows x 10360 columns]"
            ],
            "text/html": [
              "\n",
              "  <div id=\"df-e0110056-c254-423c-96a5-98aa7bd01efb\" class=\"colab-df-container\">\n",
              "    <div>\n",
              "<style scoped>\n",
              "    .dataframe tbody tr th:only-of-type {\n",
              "        vertical-align: middle;\n",
              "    }\n",
              "\n",
              "    .dataframe tbody tr th {\n",
              "        vertical-align: top;\n",
              "    }\n",
              "\n",
              "    .dataframe thead th {\n",
              "        text-align: right;\n",
              "    }\n",
              "</style>\n",
              "<table border=\"1\" class=\"dataframe\">\n",
              "  <thead>\n",
              "    <tr style=\"text-align: right;\">\n",
              "      <th></th>\n",
              "      <th>bookID</th>\n",
              "      <th>title</th>\n",
              "      <th>authors</th>\n",
              "      <th>average_rating</th>\n",
              "      <th>isbn</th>\n",
              "      <th>isbn13</th>\n",
              "      <th>language_code</th>\n",
              "      <th>num_pages</th>\n",
              "      <th>ratings_count</th>\n",
              "      <th>text_reviews_count</th>\n",
              "      <th>...</th>\n",
              "      <th>o cavalo e o seu rapaz (as crónicas de nárnia  #3)</th>\n",
              "      <th>o sobrinho do mágico (as crónicas de nárnia  #1)</th>\n",
              "      <th>a viagem do caminheiro da alvorada (as crónicas de nárnia  #5)</th>\n",
              "      <th>o príncipe caspian (as crónicas de nárnia  #4)</th>\n",
              "      <th>whores for gloria</th>\n",
              "      <th>expelled from eden: a william t. vollmann reader</th>\n",
              "      <th>you bright and risen angels</th>\n",
              "      <th>the ice-shirt (seven dreams #1)</th>\n",
              "      <th>poor people</th>\n",
              "      <th>las aventuras de tom sawyer</th>\n",
              "    </tr>\n",
              "  </thead>\n",
              "  <tbody>\n",
              "    <tr>\n",
              "      <th>0</th>\n",
              "      <td>1</td>\n",
              "      <td>harry potter and the half-blood prince (harry ...</td>\n",
              "      <td>j.k.rowling/marygrandpré</td>\n",
              "      <td>4.57</td>\n",
              "      <td>0439785960</td>\n",
              "      <td>9.780440e+12</td>\n",
              "      <td>eng</td>\n",
              "      <td>652</td>\n",
              "      <td>61114.0</td>\n",
              "      <td>2158.9</td>\n",
              "      <td>...</td>\n",
              "      <td>0.0</td>\n",
              "      <td>0.0</td>\n",
              "      <td>0.0</td>\n",
              "      <td>0.0</td>\n",
              "      <td>0.000000</td>\n",
              "      <td>0.0</td>\n",
              "      <td>0.097590</td>\n",
              "      <td>0.097590</td>\n",
              "      <td>0.0</td>\n",
              "      <td>0.0</td>\n",
              "    </tr>\n",
              "    <tr>\n",
              "      <th>1</th>\n",
              "      <td>2</td>\n",
              "      <td>harry potter and the order of the phoenix (har...</td>\n",
              "      <td>j.k.rowling/marygrandpré</td>\n",
              "      <td>4.49</td>\n",
              "      <td>0439358078</td>\n",
              "      <td>9.780439e+12</td>\n",
              "      <td>eng</td>\n",
              "      <td>752</td>\n",
              "      <td>61114.0</td>\n",
              "      <td>2158.9</td>\n",
              "      <td>...</td>\n",
              "      <td>0.0</td>\n",
              "      <td>0.0</td>\n",
              "      <td>0.0</td>\n",
              "      <td>0.0</td>\n",
              "      <td>0.000000</td>\n",
              "      <td>0.0</td>\n",
              "      <td>0.089087</td>\n",
              "      <td>0.178174</td>\n",
              "      <td>0.0</td>\n",
              "      <td>0.0</td>\n",
              "    </tr>\n",
              "    <tr>\n",
              "      <th>2</th>\n",
              "      <td>4</td>\n",
              "      <td>harry potter and the chamber of secrets (harry...</td>\n",
              "      <td>j.k.rowling</td>\n",
              "      <td>4.42</td>\n",
              "      <td>0439554896</td>\n",
              "      <td>9.780440e+12</td>\n",
              "      <td>eng</td>\n",
              "      <td>352</td>\n",
              "      <td>6333.0</td>\n",
              "      <td>244.0</td>\n",
              "      <td>...</td>\n",
              "      <td>0.0</td>\n",
              "      <td>0.0</td>\n",
              "      <td>0.0</td>\n",
              "      <td>0.0</td>\n",
              "      <td>0.000000</td>\n",
              "      <td>0.0</td>\n",
              "      <td>0.101015</td>\n",
              "      <td>0.101015</td>\n",
              "      <td>0.0</td>\n",
              "      <td>0.0</td>\n",
              "    </tr>\n",
              "    <tr>\n",
              "      <th>3</th>\n",
              "      <td>5</td>\n",
              "      <td>harry potter and the prisoner of azkaban (harr...</td>\n",
              "      <td>j.k.rowling/marygrandpré</td>\n",
              "      <td>4.56</td>\n",
              "      <td>043965548X</td>\n",
              "      <td>9.780440e+12</td>\n",
              "      <td>eng</td>\n",
              "      <td>435</td>\n",
              "      <td>61114.0</td>\n",
              "      <td>2158.9</td>\n",
              "      <td>...</td>\n",
              "      <td>0.0</td>\n",
              "      <td>0.0</td>\n",
              "      <td>0.0</td>\n",
              "      <td>0.0</td>\n",
              "      <td>0.000000</td>\n",
              "      <td>0.0</td>\n",
              "      <td>0.097590</td>\n",
              "      <td>0.097590</td>\n",
              "      <td>0.0</td>\n",
              "      <td>0.0</td>\n",
              "    </tr>\n",
              "    <tr>\n",
              "      <th>4</th>\n",
              "      <td>8</td>\n",
              "      <td>harry potter boxed set  books 1-5 (harry potte...</td>\n",
              "      <td>j.k.rowling/marygrandpré</td>\n",
              "      <td>4.38</td>\n",
              "      <td>0439682584</td>\n",
              "      <td>9.780440e+12</td>\n",
              "      <td>eng</td>\n",
              "      <td>752</td>\n",
              "      <td>61114.0</td>\n",
              "      <td>164.0</td>\n",
              "      <td>...</td>\n",
              "      <td>0.0</td>\n",
              "      <td>0.0</td>\n",
              "      <td>0.0</td>\n",
              "      <td>0.0</td>\n",
              "      <td>0.129099</td>\n",
              "      <td>0.0</td>\n",
              "      <td>0.109109</td>\n",
              "      <td>0.109109</td>\n",
              "      <td>0.0</td>\n",
              "      <td>0.0</td>\n",
              "    </tr>\n",
              "  </tbody>\n",
              "</table>\n",
              "<p>5 rows × 10360 columns</p>\n",
              "</div>\n",
              "    <div class=\"colab-df-buttons\">\n",
              "\n",
              "  <div class=\"colab-df-container\">\n",
              "    <button class=\"colab-df-convert\" onclick=\"convertToInteractive('df-e0110056-c254-423c-96a5-98aa7bd01efb')\"\n",
              "            title=\"Convert this dataframe to an interactive table.\"\n",
              "            style=\"display:none;\">\n",
              "\n",
              "  <svg xmlns=\"http://www.w3.org/2000/svg\" height=\"24px\" viewBox=\"0 -960 960 960\">\n",
              "    <path d=\"M120-120v-720h720v720H120Zm60-500h600v-160H180v160Zm220 220h160v-160H400v160Zm0 220h160v-160H400v160ZM180-400h160v-160H180v160Zm440 0h160v-160H620v160ZM180-180h160v-160H180v160Zm440 0h160v-160H620v160Z\"/>\n",
              "  </svg>\n",
              "    </button>\n",
              "\n",
              "  <style>\n",
              "    .colab-df-container {\n",
              "      display:flex;\n",
              "      gap: 12px;\n",
              "    }\n",
              "\n",
              "    .colab-df-convert {\n",
              "      background-color: #E8F0FE;\n",
              "      border: none;\n",
              "      border-radius: 50%;\n",
              "      cursor: pointer;\n",
              "      display: none;\n",
              "      fill: #1967D2;\n",
              "      height: 32px;\n",
              "      padding: 0 0 0 0;\n",
              "      width: 32px;\n",
              "    }\n",
              "\n",
              "    .colab-df-convert:hover {\n",
              "      background-color: #E2EBFA;\n",
              "      box-shadow: 0px 1px 2px rgba(60, 64, 67, 0.3), 0px 1px 3px 1px rgba(60, 64, 67, 0.15);\n",
              "      fill: #174EA6;\n",
              "    }\n",
              "\n",
              "    .colab-df-buttons div {\n",
              "      margin-bottom: 4px;\n",
              "    }\n",
              "\n",
              "    [theme=dark] .colab-df-convert {\n",
              "      background-color: #3B4455;\n",
              "      fill: #D2E3FC;\n",
              "    }\n",
              "\n",
              "    [theme=dark] .colab-df-convert:hover {\n",
              "      background-color: #434B5C;\n",
              "      box-shadow: 0px 1px 3px 1px rgba(0, 0, 0, 0.15);\n",
              "      filter: drop-shadow(0px 1px 2px rgba(0, 0, 0, 0.3));\n",
              "      fill: #FFFFFF;\n",
              "    }\n",
              "  </style>\n",
              "\n",
              "    <script>\n",
              "      const buttonEl =\n",
              "        document.querySelector('#df-e0110056-c254-423c-96a5-98aa7bd01efb button.colab-df-convert');\n",
              "      buttonEl.style.display =\n",
              "        google.colab.kernel.accessAllowed ? 'block' : 'none';\n",
              "\n",
              "      async function convertToInteractive(key) {\n",
              "        const element = document.querySelector('#df-e0110056-c254-423c-96a5-98aa7bd01efb');\n",
              "        const dataTable =\n",
              "          await google.colab.kernel.invokeFunction('convertToInteractive',\n",
              "                                                    [key], {});\n",
              "        if (!dataTable) return;\n",
              "\n",
              "        const docLinkHtml = 'Like what you see? Visit the ' +\n",
              "          '<a target=\"_blank\" href=https://colab.research.google.com/notebooks/data_table.ipynb>data table notebook</a>'\n",
              "          + ' to learn more about interactive tables.';\n",
              "        element.innerHTML = '';\n",
              "        dataTable['output_type'] = 'display_data';\n",
              "        await google.colab.output.renderOutput(dataTable, element);\n",
              "        const docLink = document.createElement('div');\n",
              "        docLink.innerHTML = docLinkHtml;\n",
              "        element.appendChild(docLink);\n",
              "      }\n",
              "    </script>\n",
              "  </div>\n",
              "\n",
              "\n",
              "<div id=\"df-44f51b13-29a8-46d9-8735-9c53c572ea24\">\n",
              "  <button class=\"colab-df-quickchart\" onclick=\"quickchart('df-44f51b13-29a8-46d9-8735-9c53c572ea24')\"\n",
              "            title=\"Suggest charts.\"\n",
              "            style=\"display:none;\">\n",
              "\n",
              "<svg xmlns=\"http://www.w3.org/2000/svg\" height=\"24px\"viewBox=\"0 0 24 24\"\n",
              "     width=\"24px\">\n",
              "    <g>\n",
              "        <path d=\"M19 3H5c-1.1 0-2 .9-2 2v14c0 1.1.9 2 2 2h14c1.1 0 2-.9 2-2V5c0-1.1-.9-2-2-2zM9 17H7v-7h2v7zm4 0h-2V7h2v10zm4 0h-2v-4h2v4z\"/>\n",
              "    </g>\n",
              "</svg>\n",
              "  </button>\n",
              "\n",
              "<style>\n",
              "  .colab-df-quickchart {\n",
              "      --bg-color: #E8F0FE;\n",
              "      --fill-color: #1967D2;\n",
              "      --hover-bg-color: #E2EBFA;\n",
              "      --hover-fill-color: #174EA6;\n",
              "      --disabled-fill-color: #AAA;\n",
              "      --disabled-bg-color: #DDD;\n",
              "  }\n",
              "\n",
              "  [theme=dark] .colab-df-quickchart {\n",
              "      --bg-color: #3B4455;\n",
              "      --fill-color: #D2E3FC;\n",
              "      --hover-bg-color: #434B5C;\n",
              "      --hover-fill-color: #FFFFFF;\n",
              "      --disabled-bg-color: #3B4455;\n",
              "      --disabled-fill-color: #666;\n",
              "  }\n",
              "\n",
              "  .colab-df-quickchart {\n",
              "    background-color: var(--bg-color);\n",
              "    border: none;\n",
              "    border-radius: 50%;\n",
              "    cursor: pointer;\n",
              "    display: none;\n",
              "    fill: var(--fill-color);\n",
              "    height: 32px;\n",
              "    padding: 0;\n",
              "    width: 32px;\n",
              "  }\n",
              "\n",
              "  .colab-df-quickchart:hover {\n",
              "    background-color: var(--hover-bg-color);\n",
              "    box-shadow: 0 1px 2px rgba(60, 64, 67, 0.3), 0 1px 3px 1px rgba(60, 64, 67, 0.15);\n",
              "    fill: var(--button-hover-fill-color);\n",
              "  }\n",
              "\n",
              "  .colab-df-quickchart-complete:disabled,\n",
              "  .colab-df-quickchart-complete:disabled:hover {\n",
              "    background-color: var(--disabled-bg-color);\n",
              "    fill: var(--disabled-fill-color);\n",
              "    box-shadow: none;\n",
              "  }\n",
              "\n",
              "  .colab-df-spinner {\n",
              "    border: 2px solid var(--fill-color);\n",
              "    border-color: transparent;\n",
              "    border-bottom-color: var(--fill-color);\n",
              "    animation:\n",
              "      spin 1s steps(1) infinite;\n",
              "  }\n",
              "\n",
              "  @keyframes spin {\n",
              "    0% {\n",
              "      border-color: transparent;\n",
              "      border-bottom-color: var(--fill-color);\n",
              "      border-left-color: var(--fill-color);\n",
              "    }\n",
              "    20% {\n",
              "      border-color: transparent;\n",
              "      border-left-color: var(--fill-color);\n",
              "      border-top-color: var(--fill-color);\n",
              "    }\n",
              "    30% {\n",
              "      border-color: transparent;\n",
              "      border-left-color: var(--fill-color);\n",
              "      border-top-color: var(--fill-color);\n",
              "      border-right-color: var(--fill-color);\n",
              "    }\n",
              "    40% {\n",
              "      border-color: transparent;\n",
              "      border-right-color: var(--fill-color);\n",
              "      border-top-color: var(--fill-color);\n",
              "    }\n",
              "    60% {\n",
              "      border-color: transparent;\n",
              "      border-right-color: var(--fill-color);\n",
              "    }\n",
              "    80% {\n",
              "      border-color: transparent;\n",
              "      border-right-color: var(--fill-color);\n",
              "      border-bottom-color: var(--fill-color);\n",
              "    }\n",
              "    90% {\n",
              "      border-color: transparent;\n",
              "      border-bottom-color: var(--fill-color);\n",
              "    }\n",
              "  }\n",
              "</style>\n",
              "\n",
              "  <script>\n",
              "    async function quickchart(key) {\n",
              "      const quickchartButtonEl =\n",
              "        document.querySelector('#' + key + ' button');\n",
              "      quickchartButtonEl.disabled = true;  // To prevent multiple clicks.\n",
              "      quickchartButtonEl.classList.add('colab-df-spinner');\n",
              "      try {\n",
              "        const charts = await google.colab.kernel.invokeFunction(\n",
              "            'suggestCharts', [key], {});\n",
              "      } catch (error) {\n",
              "        console.error('Error during call to suggestCharts:', error);\n",
              "      }\n",
              "      quickchartButtonEl.classList.remove('colab-df-spinner');\n",
              "      quickchartButtonEl.classList.add('colab-df-quickchart-complete');\n",
              "    }\n",
              "    (() => {\n",
              "      let quickchartButtonEl =\n",
              "        document.querySelector('#df-44f51b13-29a8-46d9-8735-9c53c572ea24 button');\n",
              "      quickchartButtonEl.style.display =\n",
              "        google.colab.kernel.accessAllowed ? 'block' : 'none';\n",
              "    })();\n",
              "  </script>\n",
              "</div>\n",
              "    </div>\n",
              "  </div>\n"
            ]
          },
          "metadata": {},
          "execution_count": 94
        }
      ]
    },
    {
      "cell_type": "code",
      "source": [
        "recommender_df.to_csv('books_recommender.csv', index=False)"
      ],
      "metadata": {
        "id": "nmSR7jTm2fgj"
      },
      "execution_count": null,
      "outputs": []
    },
    {
      "cell_type": "code",
      "source": [
        "from google.colab import drive\n",
        "drive.mount('/content/drive')"
      ],
      "metadata": {
        "colab": {
          "base_uri": "https://localhost:8080/"
        },
        "id": "avfnRc6D7MaU",
        "outputId": "f5edff75-31f6-4ce9-b79d-a83424246805"
      },
      "execution_count": null,
      "outputs": [
        {
          "output_type": "stream",
          "name": "stdout",
          "text": [
            "Mounted at /content/drive\n"
          ]
        }
      ]
    },
    {
      "cell_type": "code",
      "source": [
        "!ls\n"
      ],
      "metadata": {
        "colab": {
          "base_uri": "https://localhost:8080/"
        },
        "id": "aIETEdf47RrY",
        "outputId": "af5c1684-f44f-4ccc-98ae-9cc616e4f115"
      },
      "execution_count": null,
      "outputs": [
        {
          "output_type": "stream",
          "name": "stdout",
          "text": [
            " books.csv\t\t drive\t\t     'kaggle (1).json'\t sample_data\n",
            " books_recommender.csv\t goodreadsbooks.zip   kaggle.json\n"
          ]
        }
      ]
    },
    {
      "cell_type": "code",
      "source": [
        "from google.colab import files\n",
        "files.download('books_recommender.csv')"
      ],
      "metadata": {
        "colab": {
          "base_uri": "https://localhost:8080/",
          "height": 17
        },
        "id": "Gwk49e-_7vDK",
        "outputId": "3e098da8-4206-4d62-a913-3eea9ecb4c1e"
      },
      "execution_count": null,
      "outputs": [
        {
          "output_type": "display_data",
          "data": {
            "text/plain": [
              "<IPython.core.display.Javascript object>"
            ],
            "application/javascript": [
              "\n",
              "    async function download(id, filename, size) {\n",
              "      if (!google.colab.kernel.accessAllowed) {\n",
              "        return;\n",
              "      }\n",
              "      const div = document.createElement('div');\n",
              "      const label = document.createElement('label');\n",
              "      label.textContent = `Downloading \"${filename}\": `;\n",
              "      div.appendChild(label);\n",
              "      const progress = document.createElement('progress');\n",
              "      progress.max = size;\n",
              "      div.appendChild(progress);\n",
              "      document.body.appendChild(div);\n",
              "\n",
              "      const buffers = [];\n",
              "      let downloaded = 0;\n",
              "\n",
              "      const channel = await google.colab.kernel.comms.open(id);\n",
              "      // Send a message to notify the kernel that we're ready.\n",
              "      channel.send({})\n",
              "\n",
              "      for await (const message of channel.messages) {\n",
              "        // Send a message to notify the kernel that we're ready.\n",
              "        channel.send({})\n",
              "        if (message.buffers) {\n",
              "          for (const buffer of message.buffers) {\n",
              "            buffers.push(buffer);\n",
              "            downloaded += buffer.byteLength;\n",
              "            progress.value = downloaded;\n",
              "          }\n",
              "        }\n",
              "      }\n",
              "      const blob = new Blob(buffers, {type: 'application/binary'});\n",
              "      const a = document.createElement('a');\n",
              "      a.href = window.URL.createObjectURL(blob);\n",
              "      a.download = filename;\n",
              "      div.appendChild(a);\n",
              "      a.click();\n",
              "      div.remove();\n",
              "    }\n",
              "  "
            ]
          },
          "metadata": {}
        },
        {
          "output_type": "display_data",
          "data": {
            "text/plain": [
              "<IPython.core.display.Javascript object>"
            ],
            "application/javascript": [
              "download(\"download_87b6b834-daf4-4008-8983-9263bd8c2e66\", \"books_recommender.csv\", 977401298)"
            ]
          },
          "metadata": {}
        }
      ]
    }
  ]
}